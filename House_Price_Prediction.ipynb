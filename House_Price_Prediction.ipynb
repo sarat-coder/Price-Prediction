{
 "cells": [
  {
   "cell_type": "markdown",
   "id": "acquired-handle",
   "metadata": {},
   "source": [
    "# House Price Prediction"
   ]
  },
  {
   "cell_type": "markdown",
   "id": "alternative-beaver",
   "metadata": {},
   "source": [
    "# Problem Statement and Wayforward\n",
    "### 1. Predicting the district's median housing price, which will be fed into another ML system along with many other signals.\n",
    "### 2. The predictions are currently estimated manually by experts by using complex rules.\n",
    "### 3. This manual process is costly and time consuming and the estimates are not great.\n",
    "### 4. Hence management suggested to go ahead with ML approach."
   ]
  },
  {
   "cell_type": "markdown",
   "id": "played-browser",
   "metadata": {},
   "source": [
    "# Dataset\n",
    "1. We will use the California Housing Prices dataset from the StatLib repository.\n",
    "2. This dataset is based on 1990 California census.\n",
    "3. Data link: \"https://github.com/ageron/handson-ml2\""
   ]
  },
  {
   "cell_type": "markdown",
   "id": "arranged-spider",
   "metadata": {},
   "source": [
    "\n",
    "# Let us findout the frame of the Problem\n",
    "* 1. Since we are going to predict a value like Housing Price, it is a typical regression task.\n",
    "* 2. Moreover it is a multiple regression problem since our model will use multiple features for prediction.\n",
    "* 3. As we are trying to predict a single value , hence is a univariate regression task.\n",
    "* 4. Since there is no continious flow of data coming into model, hence a simple batch learning should be fine, here."
   ]
  },
  {
   "cell_type": "code",
   "execution_count": 1,
   "id": "synthetic-copying",
   "metadata": {},
   "outputs": [],
   "source": [
    "# "
   ]
  },
  {
   "cell_type": "code",
   "execution_count": 2,
   "id": "czech-blanket",
   "metadata": {},
   "outputs": [],
   "source": [
    "import os\n",
    "import tarfile\n",
    "import urllib"
   ]
  },
  {
   "cell_type": "markdown",
   "id": "manual-onion",
   "metadata": {},
   "source": [
    "# Download the data"
   ]
  },
  {
   "cell_type": "code",
   "execution_count": 3,
   "id": "royal-poster",
   "metadata": {},
   "outputs": [],
   "source": [
    "download_root=\"http://raw.githubusercontent.com/ageron/handson-ml2/master/\"\n",
    "\n",
    "housing_url=download_root+\"datasets/housing/housing.tgz\"\n",
    "housing_path=os.path.join(\"datasets1\",\"housing1\")"
   ]
  },
  {
   "cell_type": "code",
   "execution_count": 4,
   "id": "happy-domestic",
   "metadata": {},
   "outputs": [
    {
     "data": {
      "text/plain": [
       "'C:\\\\Full_Stack\\\\Projects_Imp'"
      ]
     },
     "execution_count": 4,
     "metadata": {},
     "output_type": "execute_result"
    }
   ],
   "source": [
    "pwd()"
   ]
  },
  {
   "cell_type": "code",
   "execution_count": 5,
   "id": "temporal-winter",
   "metadata": {},
   "outputs": [],
   "source": [
    "\n",
    "def fetch_housing_data(housing_url,housing_path):\n",
    "    os.makedirs(housing_path,exist_ok=True)\n",
    "    tgz_path=os.path.join(housing_path,\"housing.tgz\")\n",
    "    urllib.request.urlretrieve(housing_url,tgz_path)\n",
    "    housing_tgz=tarfile.open(tgz_path)\n",
    "    housing_tgz.extractall(path=housing_path)\n",
    "    housing_tgz.close()"
   ]
  },
  {
   "cell_type": "markdown",
   "id": "documentary-japan",
   "metadata": {},
   "source": [
    "### When we call fetch_housing_data(), it creates a datasets/housing directory in our workspace and download the file housing.tgz and extracts all."
   ]
  },
  {
   "cell_type": "code",
   "execution_count": 6,
   "id": "demonstrated-seattle",
   "metadata": {},
   "outputs": [],
   "source": [
    "fetch_housing_data(housing_url,housing_path)"
   ]
  },
  {
   "cell_type": "markdown",
   "id": "suspended-hypothetical",
   "metadata": {},
   "source": [
    "# Let us load the data by using pandas"
   ]
  },
  {
   "cell_type": "code",
   "execution_count": 7,
   "id": "institutional-bracelet",
   "metadata": {},
   "outputs": [],
   "source": [
    "import pandas as pd\n",
    "import numpy as np"
   ]
  },
  {
   "cell_type": "code",
   "execution_count": 8,
   "id": "spread-graduate",
   "metadata": {},
   "outputs": [],
   "source": [
    "housing=pd.read_csv(\"C:\\Full_Stack\\Projects_Imp\\datasets1\\housing1\\housing.csv\")"
   ]
  },
  {
   "cell_type": "code",
   "execution_count": 9,
   "id": "vocal-rally",
   "metadata": {},
   "outputs": [
    {
     "data": {
      "text/html": [
       "<div>\n",
       "<style scoped>\n",
       "    .dataframe tbody tr th:only-of-type {\n",
       "        vertical-align: middle;\n",
       "    }\n",
       "\n",
       "    .dataframe tbody tr th {\n",
       "        vertical-align: top;\n",
       "    }\n",
       "\n",
       "    .dataframe thead th {\n",
       "        text-align: right;\n",
       "    }\n",
       "</style>\n",
       "<table border=\"1\" class=\"dataframe\">\n",
       "  <thead>\n",
       "    <tr style=\"text-align: right;\">\n",
       "      <th></th>\n",
       "      <th>longitude</th>\n",
       "      <th>latitude</th>\n",
       "      <th>housing_median_age</th>\n",
       "      <th>total_rooms</th>\n",
       "      <th>total_bedrooms</th>\n",
       "      <th>population</th>\n",
       "      <th>households</th>\n",
       "      <th>median_income</th>\n",
       "      <th>median_house_value</th>\n",
       "      <th>ocean_proximity</th>\n",
       "    </tr>\n",
       "  </thead>\n",
       "  <tbody>\n",
       "    <tr>\n",
       "      <th>0</th>\n",
       "      <td>-122.23</td>\n",
       "      <td>37.88</td>\n",
       "      <td>41.0</td>\n",
       "      <td>880.0</td>\n",
       "      <td>129.0</td>\n",
       "      <td>322.0</td>\n",
       "      <td>126.0</td>\n",
       "      <td>8.3252</td>\n",
       "      <td>452600.0</td>\n",
       "      <td>NEAR BAY</td>\n",
       "    </tr>\n",
       "    <tr>\n",
       "      <th>1</th>\n",
       "      <td>-122.22</td>\n",
       "      <td>37.86</td>\n",
       "      <td>21.0</td>\n",
       "      <td>7099.0</td>\n",
       "      <td>1106.0</td>\n",
       "      <td>2401.0</td>\n",
       "      <td>1138.0</td>\n",
       "      <td>8.3014</td>\n",
       "      <td>358500.0</td>\n",
       "      <td>NEAR BAY</td>\n",
       "    </tr>\n",
       "    <tr>\n",
       "      <th>2</th>\n",
       "      <td>-122.24</td>\n",
       "      <td>37.85</td>\n",
       "      <td>52.0</td>\n",
       "      <td>1467.0</td>\n",
       "      <td>190.0</td>\n",
       "      <td>496.0</td>\n",
       "      <td>177.0</td>\n",
       "      <td>7.2574</td>\n",
       "      <td>352100.0</td>\n",
       "      <td>NEAR BAY</td>\n",
       "    </tr>\n",
       "    <tr>\n",
       "      <th>3</th>\n",
       "      <td>-122.25</td>\n",
       "      <td>37.85</td>\n",
       "      <td>52.0</td>\n",
       "      <td>1274.0</td>\n",
       "      <td>235.0</td>\n",
       "      <td>558.0</td>\n",
       "      <td>219.0</td>\n",
       "      <td>5.6431</td>\n",
       "      <td>341300.0</td>\n",
       "      <td>NEAR BAY</td>\n",
       "    </tr>\n",
       "    <tr>\n",
       "      <th>4</th>\n",
       "      <td>-122.25</td>\n",
       "      <td>37.85</td>\n",
       "      <td>52.0</td>\n",
       "      <td>1627.0</td>\n",
       "      <td>280.0</td>\n",
       "      <td>565.0</td>\n",
       "      <td>259.0</td>\n",
       "      <td>3.8462</td>\n",
       "      <td>342200.0</td>\n",
       "      <td>NEAR BAY</td>\n",
       "    </tr>\n",
       "  </tbody>\n",
       "</table>\n",
       "</div>"
      ],
      "text/plain": [
       "   longitude  latitude  housing_median_age  total_rooms  total_bedrooms  \\\n",
       "0    -122.23     37.88                41.0        880.0           129.0   \n",
       "1    -122.22     37.86                21.0       7099.0          1106.0   \n",
       "2    -122.24     37.85                52.0       1467.0           190.0   \n",
       "3    -122.25     37.85                52.0       1274.0           235.0   \n",
       "4    -122.25     37.85                52.0       1627.0           280.0   \n",
       "\n",
       "   population  households  median_income  median_house_value ocean_proximity  \n",
       "0       322.0       126.0         8.3252            452600.0        NEAR BAY  \n",
       "1      2401.0      1138.0         8.3014            358500.0        NEAR BAY  \n",
       "2       496.0       177.0         7.2574            352100.0        NEAR BAY  \n",
       "3       558.0       219.0         5.6431            341300.0        NEAR BAY  \n",
       "4       565.0       259.0         3.8462            342200.0        NEAR BAY  "
      ]
     },
     "execution_count": 9,
     "metadata": {},
     "output_type": "execute_result"
    }
   ],
   "source": [
    "housing.head()"
   ]
  },
  {
   "cell_type": "code",
   "execution_count": null,
   "id": "arbitrary-liquid",
   "metadata": {},
   "outputs": [],
   "source": []
  },
  {
   "cell_type": "code",
   "execution_count": null,
   "id": "packed-trading",
   "metadata": {},
   "outputs": [],
   "source": []
  },
  {
   "cell_type": "code",
   "execution_count": 10,
   "id": "metropolitan-trash",
   "metadata": {},
   "outputs": [],
   "source": [
    "def load_data(housing_path):\n",
    "    csv_path=os.path.join(housing_path,\"housing.csv\")\n",
    "    return pd.read_csv(csv_path)"
   ]
  },
  {
   "cell_type": "code",
   "execution_count": 11,
   "id": "rural-truth",
   "metadata": {},
   "outputs": [
    {
     "data": {
      "text/plain": [
       "'datasets1\\\\housing1'"
      ]
     },
     "execution_count": 11,
     "metadata": {},
     "output_type": "execute_result"
    }
   ],
   "source": [
    "housing_path"
   ]
  },
  {
   "cell_type": "code",
   "execution_count": 12,
   "id": "antique-phoenix",
   "metadata": {},
   "outputs": [
    {
     "data": {
      "text/plain": [
       "'C:\\\\Full_Stack\\\\Projects_Imp'"
      ]
     },
     "execution_count": 12,
     "metadata": {},
     "output_type": "execute_result"
    }
   ],
   "source": [
    "pwd()"
   ]
  },
  {
   "cell_type": "code",
   "execution_count": 13,
   "id": "shared-wisdom",
   "metadata": {},
   "outputs": [],
   "source": [
    "housing=load_data(housing_path)"
   ]
  },
  {
   "cell_type": "code",
   "execution_count": 14,
   "id": "formed-tender",
   "metadata": {
    "scrolled": true
   },
   "outputs": [
    {
     "data": {
      "text/html": [
       "<div>\n",
       "<style scoped>\n",
       "    .dataframe tbody tr th:only-of-type {\n",
       "        vertical-align: middle;\n",
       "    }\n",
       "\n",
       "    .dataframe tbody tr th {\n",
       "        vertical-align: top;\n",
       "    }\n",
       "\n",
       "    .dataframe thead th {\n",
       "        text-align: right;\n",
       "    }\n",
       "</style>\n",
       "<table border=\"1\" class=\"dataframe\">\n",
       "  <thead>\n",
       "    <tr style=\"text-align: right;\">\n",
       "      <th></th>\n",
       "      <th>longitude</th>\n",
       "      <th>latitude</th>\n",
       "      <th>housing_median_age</th>\n",
       "      <th>total_rooms</th>\n",
       "      <th>total_bedrooms</th>\n",
       "      <th>population</th>\n",
       "      <th>households</th>\n",
       "      <th>median_income</th>\n",
       "      <th>median_house_value</th>\n",
       "      <th>ocean_proximity</th>\n",
       "    </tr>\n",
       "  </thead>\n",
       "  <tbody>\n",
       "    <tr>\n",
       "      <th>0</th>\n",
       "      <td>-122.23</td>\n",
       "      <td>37.88</td>\n",
       "      <td>41.0</td>\n",
       "      <td>880.0</td>\n",
       "      <td>129.0</td>\n",
       "      <td>322.0</td>\n",
       "      <td>126.0</td>\n",
       "      <td>8.3252</td>\n",
       "      <td>452600.0</td>\n",
       "      <td>NEAR BAY</td>\n",
       "    </tr>\n",
       "    <tr>\n",
       "      <th>1</th>\n",
       "      <td>-122.22</td>\n",
       "      <td>37.86</td>\n",
       "      <td>21.0</td>\n",
       "      <td>7099.0</td>\n",
       "      <td>1106.0</td>\n",
       "      <td>2401.0</td>\n",
       "      <td>1138.0</td>\n",
       "      <td>8.3014</td>\n",
       "      <td>358500.0</td>\n",
       "      <td>NEAR BAY</td>\n",
       "    </tr>\n",
       "    <tr>\n",
       "      <th>2</th>\n",
       "      <td>-122.24</td>\n",
       "      <td>37.85</td>\n",
       "      <td>52.0</td>\n",
       "      <td>1467.0</td>\n",
       "      <td>190.0</td>\n",
       "      <td>496.0</td>\n",
       "      <td>177.0</td>\n",
       "      <td>7.2574</td>\n",
       "      <td>352100.0</td>\n",
       "      <td>NEAR BAY</td>\n",
       "    </tr>\n",
       "    <tr>\n",
       "      <th>3</th>\n",
       "      <td>-122.25</td>\n",
       "      <td>37.85</td>\n",
       "      <td>52.0</td>\n",
       "      <td>1274.0</td>\n",
       "      <td>235.0</td>\n",
       "      <td>558.0</td>\n",
       "      <td>219.0</td>\n",
       "      <td>5.6431</td>\n",
       "      <td>341300.0</td>\n",
       "      <td>NEAR BAY</td>\n",
       "    </tr>\n",
       "    <tr>\n",
       "      <th>4</th>\n",
       "      <td>-122.25</td>\n",
       "      <td>37.85</td>\n",
       "      <td>52.0</td>\n",
       "      <td>1627.0</td>\n",
       "      <td>280.0</td>\n",
       "      <td>565.0</td>\n",
       "      <td>259.0</td>\n",
       "      <td>3.8462</td>\n",
       "      <td>342200.0</td>\n",
       "      <td>NEAR BAY</td>\n",
       "    </tr>\n",
       "  </tbody>\n",
       "</table>\n",
       "</div>"
      ],
      "text/plain": [
       "   longitude  latitude  housing_median_age  total_rooms  total_bedrooms  \\\n",
       "0    -122.23     37.88                41.0        880.0           129.0   \n",
       "1    -122.22     37.86                21.0       7099.0          1106.0   \n",
       "2    -122.24     37.85                52.0       1467.0           190.0   \n",
       "3    -122.25     37.85                52.0       1274.0           235.0   \n",
       "4    -122.25     37.85                52.0       1627.0           280.0   \n",
       "\n",
       "   population  households  median_income  median_house_value ocean_proximity  \n",
       "0       322.0       126.0         8.3252            452600.0        NEAR BAY  \n",
       "1      2401.0      1138.0         8.3014            358500.0        NEAR BAY  \n",
       "2       496.0       177.0         7.2574            352100.0        NEAR BAY  \n",
       "3       558.0       219.0         5.6431            341300.0        NEAR BAY  \n",
       "4       565.0       259.0         3.8462            342200.0        NEAR BAY  "
      ]
     },
     "execution_count": 14,
     "metadata": {},
     "output_type": "execute_result"
    }
   ],
   "source": [
    "housing.head()"
   ]
  },
  {
   "cell_type": "code",
   "execution_count": 15,
   "id": "lyric-wallet",
   "metadata": {},
   "outputs": [
    {
     "name": "stdout",
     "output_type": "stream",
     "text": [
      "<class 'pandas.core.frame.DataFrame'>\n",
      "RangeIndex: 20640 entries, 0 to 20639\n",
      "Data columns (total 10 columns):\n",
      " #   Column              Non-Null Count  Dtype  \n",
      "---  ------              --------------  -----  \n",
      " 0   longitude           20640 non-null  float64\n",
      " 1   latitude            20640 non-null  float64\n",
      " 2   housing_median_age  20640 non-null  float64\n",
      " 3   total_rooms         20640 non-null  float64\n",
      " 4   total_bedrooms      20433 non-null  float64\n",
      " 5   population          20640 non-null  float64\n",
      " 6   households          20640 non-null  float64\n",
      " 7   median_income       20640 non-null  float64\n",
      " 8   median_house_value  20640 non-null  float64\n",
      " 9   ocean_proximity     20640 non-null  object \n",
      "dtypes: float64(9), object(1)\n",
      "memory usage: 1.6+ MB\n"
     ]
    }
   ],
   "source": [
    "housing.info()"
   ]
  },
  {
   "cell_type": "code",
   "execution_count": 16,
   "id": "consecutive-settlement",
   "metadata": {},
   "outputs": [
    {
     "data": {
      "text/plain": [
       "longitude             float64\n",
       "latitude              float64\n",
       "housing_median_age    float64\n",
       "total_rooms           float64\n",
       "total_bedrooms        float64\n",
       "population            float64\n",
       "households            float64\n",
       "median_income         float64\n",
       "median_house_value    float64\n",
       "ocean_proximity        object\n",
       "dtype: object"
      ]
     },
     "execution_count": 16,
     "metadata": {},
     "output_type": "execute_result"
    }
   ],
   "source": [
    "housing.dtypes"
   ]
  },
  {
   "cell_type": "code",
   "execution_count": null,
   "id": "fifty-actress",
   "metadata": {},
   "outputs": [],
   "source": []
  },
  {
   "cell_type": "code",
   "execution_count": 17,
   "id": "agricultural-newspaper",
   "metadata": {},
   "outputs": [
    {
     "data": {
      "text/plain": [
       "20640"
      ]
     },
     "execution_count": 17,
     "metadata": {},
     "output_type": "execute_result"
    }
   ],
   "source": [
    "housing.shape[0]"
   ]
  },
  {
   "cell_type": "code",
   "execution_count": 18,
   "id": "internal-wallace",
   "metadata": {},
   "outputs": [
    {
     "name": "stdout",
     "output_type": "stream",
     "text": [
      " the valule of x is 10\n"
     ]
    }
   ],
   "source": [
    "x=10\n",
    "print(f\" the valule of x is {x}\")"
   ]
  },
  {
   "cell_type": "code",
   "execution_count": 19,
   "id": "helpful-story",
   "metadata": {},
   "outputs": [
    {
     "name": "stdout",
     "output_type": "stream",
     "text": [
      "Total number of Districts are 20640\n",
      "Total number of Attributes are 10\n"
     ]
    }
   ],
   "source": [
    "print(f\"Total number of Districts are {housing.shape[0]}\")\n",
    "print(f\"Total number of Attributes are {housing.shape[1]}\")"
   ]
  },
  {
   "cell_type": "code",
   "execution_count": 20,
   "id": "oriented-waters",
   "metadata": {},
   "outputs": [
    {
     "data": {
      "text/plain": [
       "Index(['longitude', 'latitude', 'housing_median_age', 'total_rooms',\n",
       "       'total_bedrooms', 'population', 'households', 'median_income',\n",
       "       'median_house_value', 'ocean_proximity'],\n",
       "      dtype='object')"
      ]
     },
     "execution_count": 20,
     "metadata": {},
     "output_type": "execute_result"
    }
   ],
   "source": [
    "housing.columns"
   ]
  },
  {
   "cell_type": "code",
   "execution_count": 21,
   "id": "unlikely-routine",
   "metadata": {},
   "outputs": [
    {
     "data": {
      "text/plain": [
       "<1H OCEAN     9136\n",
       "INLAND        6551\n",
       "NEAR OCEAN    2658\n",
       "NEAR BAY      2290\n",
       "ISLAND           5\n",
       "Name: ocean_proximity, dtype: int64"
      ]
     },
     "execution_count": 21,
     "metadata": {},
     "output_type": "execute_result"
    }
   ],
   "source": [
    "# Let us find out the categorical information of \"ocean_proximity\"\n",
    "housing.ocean_proximity.value_counts()"
   ]
  },
  {
   "cell_type": "code",
   "execution_count": 22,
   "id": "classified-checklist",
   "metadata": {},
   "outputs": [
    {
     "data": {
      "text/html": [
       "<div>\n",
       "<style scoped>\n",
       "    .dataframe tbody tr th:only-of-type {\n",
       "        vertical-align: middle;\n",
       "    }\n",
       "\n",
       "    .dataframe tbody tr th {\n",
       "        vertical-align: top;\n",
       "    }\n",
       "\n",
       "    .dataframe thead th {\n",
       "        text-align: right;\n",
       "    }\n",
       "</style>\n",
       "<table border=\"1\" class=\"dataframe\">\n",
       "  <thead>\n",
       "    <tr style=\"text-align: right;\">\n",
       "      <th></th>\n",
       "      <th>longitude</th>\n",
       "      <th>latitude</th>\n",
       "      <th>housing_median_age</th>\n",
       "      <th>total_rooms</th>\n",
       "      <th>total_bedrooms</th>\n",
       "      <th>population</th>\n",
       "      <th>households</th>\n",
       "      <th>median_income</th>\n",
       "      <th>median_house_value</th>\n",
       "    </tr>\n",
       "  </thead>\n",
       "  <tbody>\n",
       "    <tr>\n",
       "      <th>count</th>\n",
       "      <td>20640.000000</td>\n",
       "      <td>20640.000000</td>\n",
       "      <td>20640.000000</td>\n",
       "      <td>20640.000000</td>\n",
       "      <td>20433.000000</td>\n",
       "      <td>20640.000000</td>\n",
       "      <td>20640.000000</td>\n",
       "      <td>20640.000000</td>\n",
       "      <td>20640.000000</td>\n",
       "    </tr>\n",
       "    <tr>\n",
       "      <th>mean</th>\n",
       "      <td>-119.569704</td>\n",
       "      <td>35.631861</td>\n",
       "      <td>28.639486</td>\n",
       "      <td>2635.763081</td>\n",
       "      <td>537.870553</td>\n",
       "      <td>1425.476744</td>\n",
       "      <td>499.539680</td>\n",
       "      <td>3.870671</td>\n",
       "      <td>206855.816909</td>\n",
       "    </tr>\n",
       "    <tr>\n",
       "      <th>std</th>\n",
       "      <td>2.003532</td>\n",
       "      <td>2.135952</td>\n",
       "      <td>12.585558</td>\n",
       "      <td>2181.615252</td>\n",
       "      <td>421.385070</td>\n",
       "      <td>1132.462122</td>\n",
       "      <td>382.329753</td>\n",
       "      <td>1.899822</td>\n",
       "      <td>115395.615874</td>\n",
       "    </tr>\n",
       "    <tr>\n",
       "      <th>min</th>\n",
       "      <td>-124.350000</td>\n",
       "      <td>32.540000</td>\n",
       "      <td>1.000000</td>\n",
       "      <td>2.000000</td>\n",
       "      <td>1.000000</td>\n",
       "      <td>3.000000</td>\n",
       "      <td>1.000000</td>\n",
       "      <td>0.499900</td>\n",
       "      <td>14999.000000</td>\n",
       "    </tr>\n",
       "    <tr>\n",
       "      <th>25%</th>\n",
       "      <td>-121.800000</td>\n",
       "      <td>33.930000</td>\n",
       "      <td>18.000000</td>\n",
       "      <td>1447.750000</td>\n",
       "      <td>296.000000</td>\n",
       "      <td>787.000000</td>\n",
       "      <td>280.000000</td>\n",
       "      <td>2.563400</td>\n",
       "      <td>119600.000000</td>\n",
       "    </tr>\n",
       "    <tr>\n",
       "      <th>50%</th>\n",
       "      <td>-118.490000</td>\n",
       "      <td>34.260000</td>\n",
       "      <td>29.000000</td>\n",
       "      <td>2127.000000</td>\n",
       "      <td>435.000000</td>\n",
       "      <td>1166.000000</td>\n",
       "      <td>409.000000</td>\n",
       "      <td>3.534800</td>\n",
       "      <td>179700.000000</td>\n",
       "    </tr>\n",
       "    <tr>\n",
       "      <th>75%</th>\n",
       "      <td>-118.010000</td>\n",
       "      <td>37.710000</td>\n",
       "      <td>37.000000</td>\n",
       "      <td>3148.000000</td>\n",
       "      <td>647.000000</td>\n",
       "      <td>1725.000000</td>\n",
       "      <td>605.000000</td>\n",
       "      <td>4.743250</td>\n",
       "      <td>264725.000000</td>\n",
       "    </tr>\n",
       "    <tr>\n",
       "      <th>max</th>\n",
       "      <td>-114.310000</td>\n",
       "      <td>41.950000</td>\n",
       "      <td>52.000000</td>\n",
       "      <td>39320.000000</td>\n",
       "      <td>6445.000000</td>\n",
       "      <td>35682.000000</td>\n",
       "      <td>6082.000000</td>\n",
       "      <td>15.000100</td>\n",
       "      <td>500001.000000</td>\n",
       "    </tr>\n",
       "  </tbody>\n",
       "</table>\n",
       "</div>"
      ],
      "text/plain": [
       "          longitude      latitude  housing_median_age   total_rooms  \\\n",
       "count  20640.000000  20640.000000        20640.000000  20640.000000   \n",
       "mean    -119.569704     35.631861           28.639486   2635.763081   \n",
       "std        2.003532      2.135952           12.585558   2181.615252   \n",
       "min     -124.350000     32.540000            1.000000      2.000000   \n",
       "25%     -121.800000     33.930000           18.000000   1447.750000   \n",
       "50%     -118.490000     34.260000           29.000000   2127.000000   \n",
       "75%     -118.010000     37.710000           37.000000   3148.000000   \n",
       "max     -114.310000     41.950000           52.000000  39320.000000   \n",
       "\n",
       "       total_bedrooms    population    households  median_income  \\\n",
       "count    20433.000000  20640.000000  20640.000000   20640.000000   \n",
       "mean       537.870553   1425.476744    499.539680       3.870671   \n",
       "std        421.385070   1132.462122    382.329753       1.899822   \n",
       "min          1.000000      3.000000      1.000000       0.499900   \n",
       "25%        296.000000    787.000000    280.000000       2.563400   \n",
       "50%        435.000000   1166.000000    409.000000       3.534800   \n",
       "75%        647.000000   1725.000000    605.000000       4.743250   \n",
       "max       6445.000000  35682.000000   6082.000000      15.000100   \n",
       "\n",
       "       median_house_value  \n",
       "count        20640.000000  \n",
       "mean        206855.816909  \n",
       "std         115395.615874  \n",
       "min          14999.000000  \n",
       "25%         119600.000000  \n",
       "50%         179700.000000  \n",
       "75%         264725.000000  \n",
       "max         500001.000000  "
      ]
     },
     "execution_count": 22,
     "metadata": {},
     "output_type": "execute_result"
    }
   ],
   "source": [
    "# Let us usse describe command \n",
    "housing.describe()"
   ]
  },
  {
   "cell_type": "markdown",
   "id": "molecular-healing",
   "metadata": {},
   "source": [
    "# Undestanding attributes\n",
    "* Each row represents one district, There are 20640 districts.\n",
    "* Each column represents one feature, there are 10 features.\n",
    "* total_bedrooms, is having lesser number of records (207) we have found from df.info() command. We have to handle these missing values.\n",
    "* All attributes are float expect ocean_proximity , which is Object and a categorical field.Value_counts function explains (1H Ocean having 9136 records,Inland is 6551,near ocean is having 2658 districts, Near bay having 2290 districts and island 5 districts.\n",
    "* Describe function explains: \n",
    "        1. std: standard deviation i.e. dispersion from mean.,\n",
    "        2. 25% (first quartile), 50%(2nd quartile(median)),75%(third quartile) represents the percentile: (e.g.housing_median_age, 25% districts have a housing_median_age less than 18, 50% districts are lower than 29 and 75% are lower than 37)\n",
    "        3. Count: explains how many records we are havinv on that attribute.\n",
    "        4. mean: average of observation in that attribute.\n",
    "        5. min: minimum of observation of the attribute.\n",
    "        6. max: maximum of observation of the attribute."
   ]
  },
  {
   "cell_type": "code",
   "execution_count": 23,
   "id": "nearby-collaboration",
   "metadata": {},
   "outputs": [
    {
     "data": {
      "text/plain": [
       "Index(['longitude', 'latitude', 'housing_median_age', 'total_rooms',\n",
       "       'total_bedrooms', 'population', 'households', 'median_income',\n",
       "       'median_house_value', 'ocean_proximity'],\n",
       "      dtype='object')"
      ]
     },
     "execution_count": 23,
     "metadata": {},
     "output_type": "execute_result"
    }
   ],
   "source": [
    "housing.columns"
   ]
  },
  {
   "cell_type": "code",
   "execution_count": 24,
   "id": "portable-battery",
   "metadata": {},
   "outputs": [
    {
     "name": "stdout",
     "output_type": "stream",
     "text": [
      "14999.0 500001.0\n"
     ]
    }
   ],
   "source": [
    "print(min(housing['median_house_value']),max(housing['median_house_value']))"
   ]
  },
  {
   "cell_type": "code",
   "execution_count": 25,
   "id": "ruled-scroll",
   "metadata": {},
   "outputs": [
    {
     "data": {
      "text/plain": [
       "[14999.0,\n",
       " 17500.0,\n",
       " 22500.0,\n",
       " 25000.0,\n",
       " 26600.0,\n",
       " 26900.0,\n",
       " 27500.0,\n",
       " 28300.0,\n",
       " 30000.0,\n",
       " 32500.0,\n",
       " 32900.0,\n",
       " 33200.0,\n",
       " 34200.0,\n",
       " 34400.0,\n",
       " 34600.0,\n",
       " 35000.0,\n",
       " 36600.0,\n",
       " 36700.0,\n",
       " 37500.0,\n",
       " 37900.0,\n",
       " 38800.0,\n",
       " 39200.0,\n",
       " 39400.0,\n",
       " 39600.0,\n",
       " 39800.0,\n",
       " 40000.0,\n",
       " 40400.0,\n",
       " 40900.0,\n",
       " 41000.0,\n",
       " 41300.0,\n",
       " 41400.0,\n",
       " 41500.0,\n",
       " 41700.0,\n",
       " 41800.0,\n",
       " 42100.0,\n",
       " 42500.0,\n",
       " 42600.0,\n",
       " 42700.0,\n",
       " 43000.0,\n",
       " 43100.0,\n",
       " 43300.0,\n",
       " 43500.0,\n",
       " 43600.0,\n",
       " 43700.0,\n",
       " 43800.0,\n",
       " 43900.0,\n",
       " 44000.0,\n",
       " 44100.0,\n",
       " 44400.0,\n",
       " 44500.0,\n",
       " 44600.0,\n",
       " 44700.0,\n",
       " 44800.0,\n",
       " 45000.0,\n",
       " 45100.0,\n",
       " 45300.0,\n",
       " 45500.0,\n",
       " 45600.0,\n",
       " 45800.0,\n",
       " 46200.0,\n",
       " 46300.0,\n",
       " 46500.0,\n",
       " 46600.0,\n",
       " 46700.0,\n",
       " 46800.0,\n",
       " 46900.0,\n",
       " 47000.0,\n",
       " 47100.0,\n",
       " 47400.0,\n",
       " 47500.0,\n",
       " 47600.0,\n",
       " 47700.0,\n",
       " 47800.0,\n",
       " 47900.0,\n",
       " 48000.0,\n",
       " 48100.0,\n",
       " 48300.0,\n",
       " 48500.0,\n",
       " 48600.0,\n",
       " 48700.0,\n",
       " 48800.0,\n",
       " 48900.0,\n",
       " 49000.0,\n",
       " 49100.0,\n",
       " 49200.0,\n",
       " 49300.0,\n",
       " 49400.0,\n",
       " 49500.0,\n",
       " 49600.0,\n",
       " 49800.0,\n",
       " 50000.0,\n",
       " 50100.0,\n",
       " 50200.0,\n",
       " 50300.0,\n",
       " 50400.0,\n",
       " 50500.0,\n",
       " 50600.0,\n",
       " 50700.0,\n",
       " 50800.0,\n",
       " 50900.0,\n",
       " 51000.0,\n",
       " 51100.0,\n",
       " 51200.0,\n",
       " 51300.0,\n",
       " 51400.0,\n",
       " 51500.0,\n",
       " 51600.0,\n",
       " 51700.0,\n",
       " 51800.0,\n",
       " 51900.0,\n",
       " 52000.0,\n",
       " 52100.0,\n",
       " 52200.0,\n",
       " 52300.0,\n",
       " 52400.0,\n",
       " 52500.0,\n",
       " 52600.0,\n",
       " 52700.0,\n",
       " 52800.0,\n",
       " 52900.0,\n",
       " 53000.0,\n",
       " 53100.0,\n",
       " 53200.0,\n",
       " 53300.0,\n",
       " 53400.0,\n",
       " 53500.0,\n",
       " 53600.0,\n",
       " 53800.0,\n",
       " 53900.0,\n",
       " 54000.0,\n",
       " 54100.0,\n",
       " 54200.0,\n",
       " 54300.0,\n",
       " 54400.0,\n",
       " 54600.0,\n",
       " 54700.0,\n",
       " 54800.0,\n",
       " 54900.0,\n",
       " 55000.0,\n",
       " 55100.0,\n",
       " 55200.0,\n",
       " 55300.0,\n",
       " 55400.0,\n",
       " 55500.0,\n",
       " 55600.0,\n",
       " 55700.0,\n",
       " 55800.0,\n",
       " 55900.0,\n",
       " 56000.0,\n",
       " 56100.0,\n",
       " 56200.0,\n",
       " 56300.0,\n",
       " 56400.0,\n",
       " 56500.0,\n",
       " 56600.0,\n",
       " 56700.0,\n",
       " 56800.0,\n",
       " 56900.0,\n",
       " 57000.0,\n",
       " 57100.0,\n",
       " 57200.0,\n",
       " 57300.0,\n",
       " 57400.0,\n",
       " 57500.0,\n",
       " 57600.0,\n",
       " 57700.0,\n",
       " 57800.0,\n",
       " 57900.0,\n",
       " 58000.0,\n",
       " 58100.0,\n",
       " 58200.0,\n",
       " 58300.0,\n",
       " 58400.0,\n",
       " 58500.0,\n",
       " 58600.0,\n",
       " 58700.0,\n",
       " 58800.0,\n",
       " 58900.0,\n",
       " 59000.0,\n",
       " 59100.0,\n",
       " 59200.0,\n",
       " 59300.0,\n",
       " 59400.0,\n",
       " 59500.0,\n",
       " 59600.0,\n",
       " 59700.0,\n",
       " 59800.0,\n",
       " 59900.0,\n",
       " 60000.0,\n",
       " 60200.0,\n",
       " 60300.0,\n",
       " 60400.0,\n",
       " 60500.0,\n",
       " 60600.0,\n",
       " 60700.0,\n",
       " 60800.0,\n",
       " 60900.0,\n",
       " 61000.0,\n",
       " 61100.0,\n",
       " 61200.0,\n",
       " 61300.0,\n",
       " 61400.0,\n",
       " 61500.0,\n",
       " 61600.0,\n",
       " 61700.0,\n",
       " 61800.0,\n",
       " 61900.0,\n",
       " 62000.0,\n",
       " 62100.0,\n",
       " 62200.0,\n",
       " 62300.0,\n",
       " 62400.0,\n",
       " 62500.0,\n",
       " 62600.0,\n",
       " 62700.0,\n",
       " 62800.0,\n",
       " 62900.0,\n",
       " 63000.0,\n",
       " 63100.0,\n",
       " 63200.0,\n",
       " 63300.0,\n",
       " 63400.0,\n",
       " 63500.0,\n",
       " 63600.0,\n",
       " 63700.0,\n",
       " 63800.0,\n",
       " 63900.0,\n",
       " 64000.0,\n",
       " 64100.0,\n",
       " 64300.0,\n",
       " 64400.0,\n",
       " 64500.0,\n",
       " 64600.0,\n",
       " 64700.0,\n",
       " 64800.0,\n",
       " 64900.0,\n",
       " 65000.0,\n",
       " 65100.0,\n",
       " 65200.0,\n",
       " 65300.0,\n",
       " 65400.0,\n",
       " 65500.0,\n",
       " 65600.0,\n",
       " 65700.0,\n",
       " 65800.0,\n",
       " 65900.0,\n",
       " 66000.0,\n",
       " 66100.0,\n",
       " 66200.0,\n",
       " 66300.0,\n",
       " 66400.0,\n",
       " 66500.0,\n",
       " 66600.0,\n",
       " 66700.0,\n",
       " 66800.0,\n",
       " 66900.0,\n",
       " 67000.0,\n",
       " 67200.0,\n",
       " 67300.0,\n",
       " 67400.0,\n",
       " 67500.0,\n",
       " 67600.0,\n",
       " 67700.0,\n",
       " 67800.0,\n",
       " 67900.0,\n",
       " 68000.0,\n",
       " 68100.0,\n",
       " 68200.0,\n",
       " 68300.0,\n",
       " 68400.0,\n",
       " 68500.0,\n",
       " 68600.0,\n",
       " 68700.0,\n",
       " 68800.0,\n",
       " 68900.0,\n",
       " 69000.0,\n",
       " 69100.0,\n",
       " 69200.0,\n",
       " 69300.0,\n",
       " 69400.0,\n",
       " 69500.0,\n",
       " 69600.0,\n",
       " 69700.0,\n",
       " 69800.0,\n",
       " 69900.0,\n",
       " 70000.0,\n",
       " 70100.0,\n",
       " 70200.0,\n",
       " 70300.0,\n",
       " 70400.0,\n",
       " 70500.0,\n",
       " 70600.0,\n",
       " 70700.0,\n",
       " 70800.0,\n",
       " 70900.0,\n",
       " 71000.0,\n",
       " 71100.0,\n",
       " 71200.0,\n",
       " 71300.0,\n",
       " 71400.0,\n",
       " 71500.0,\n",
       " 71600.0,\n",
       " 71700.0,\n",
       " 71800.0,\n",
       " 71900.0,\n",
       " 72000.0,\n",
       " 72100.0,\n",
       " 72200.0,\n",
       " 72300.0,\n",
       " 72400.0,\n",
       " 72500.0,\n",
       " 72600.0,\n",
       " 72700.0,\n",
       " 72800.0,\n",
       " 72900.0,\n",
       " 73000.0,\n",
       " 73100.0,\n",
       " 73200.0,\n",
       " 73300.0,\n",
       " 73400.0,\n",
       " 73500.0,\n",
       " 73600.0,\n",
       " 73700.0,\n",
       " 73800.0,\n",
       " 73900.0,\n",
       " 74000.0,\n",
       " 74100.0,\n",
       " 74200.0,\n",
       " 74300.0,\n",
       " 74400.0,\n",
       " 74500.0,\n",
       " 74600.0,\n",
       " 74700.0,\n",
       " 74800.0,\n",
       " 74900.0,\n",
       " 75000.0,\n",
       " 75100.0,\n",
       " 75200.0,\n",
       " 75300.0,\n",
       " 75400.0,\n",
       " 75500.0,\n",
       " 75600.0,\n",
       " 75700.0,\n",
       " 75800.0,\n",
       " 75900.0,\n",
       " 76000.0,\n",
       " 76100.0,\n",
       " 76200.0,\n",
       " 76300.0,\n",
       " 76400.0,\n",
       " 76500.0,\n",
       " 76600.0,\n",
       " 76700.0,\n",
       " 76800.0,\n",
       " 76900.0,\n",
       " 77000.0,\n",
       " 77100.0,\n",
       " 77200.0,\n",
       " 77300.0,\n",
       " 77400.0,\n",
       " 77500.0,\n",
       " 77600.0,\n",
       " 77700.0,\n",
       " 77800.0,\n",
       " 77900.0,\n",
       " 78000.0,\n",
       " 78100.0,\n",
       " 78200.0,\n",
       " 78300.0,\n",
       " 78400.0,\n",
       " 78500.0,\n",
       " 78600.0,\n",
       " 78700.0,\n",
       " 78800.0,\n",
       " 78900.0,\n",
       " 79000.0,\n",
       " 79100.0,\n",
       " 79200.0,\n",
       " 79300.0,\n",
       " 79400.0,\n",
       " 79500.0,\n",
       " 79600.0,\n",
       " 79700.0,\n",
       " 79800.0,\n",
       " 79900.0,\n",
       " 80000.0,\n",
       " 80100.0,\n",
       " 80200.0,\n",
       " 80300.0,\n",
       " 80400.0,\n",
       " 80500.0,\n",
       " 80600.0,\n",
       " 80700.0,\n",
       " 80800.0,\n",
       " 80900.0,\n",
       " 81000.0,\n",
       " 81100.0,\n",
       " 81200.0,\n",
       " 81300.0,\n",
       " 81400.0,\n",
       " 81500.0,\n",
       " 81600.0,\n",
       " 81700.0,\n",
       " 81800.0,\n",
       " 81900.0,\n",
       " 82000.0,\n",
       " 82100.0,\n",
       " 82200.0,\n",
       " 82300.0,\n",
       " 82400.0,\n",
       " 82500.0,\n",
       " 82600.0,\n",
       " 82700.0,\n",
       " 82800.0,\n",
       " 82900.0,\n",
       " 83000.0,\n",
       " 83100.0,\n",
       " 83200.0,\n",
       " 83300.0,\n",
       " 83400.0,\n",
       " 83500.0,\n",
       " 83600.0,\n",
       " 83700.0,\n",
       " 83800.0,\n",
       " 83900.0,\n",
       " 84000.0,\n",
       " 84100.0,\n",
       " 84200.0,\n",
       " 84300.0,\n",
       " 84400.0,\n",
       " 84500.0,\n",
       " 84600.0,\n",
       " 84700.0,\n",
       " 84800.0,\n",
       " 84900.0,\n",
       " 85000.0,\n",
       " 85100.0,\n",
       " 85200.0,\n",
       " 85300.0,\n",
       " 85400.0,\n",
       " 85500.0,\n",
       " 85600.0,\n",
       " 85700.0,\n",
       " 85800.0,\n",
       " 85900.0,\n",
       " 86000.0,\n",
       " 86100.0,\n",
       " 86200.0,\n",
       " 86300.0,\n",
       " 86400.0,\n",
       " 86500.0,\n",
       " 86600.0,\n",
       " 86700.0,\n",
       " 86800.0,\n",
       " 86900.0,\n",
       " 87000.0,\n",
       " 87100.0,\n",
       " 87200.0,\n",
       " 87300.0,\n",
       " 87400.0,\n",
       " 87500.0,\n",
       " 87600.0,\n",
       " 87700.0,\n",
       " 87800.0,\n",
       " 87900.0,\n",
       " 88000.0,\n",
       " 88100.0,\n",
       " 88200.0,\n",
       " 88300.0,\n",
       " 88400.0,\n",
       " 88500.0,\n",
       " 88600.0,\n",
       " 88700.0,\n",
       " 88800.0,\n",
       " 88900.0,\n",
       " 89000.0,\n",
       " 89100.0,\n",
       " 89200.0,\n",
       " 89300.0,\n",
       " 89400.0,\n",
       " 89500.0,\n",
       " 89600.0,\n",
       " 89700.0,\n",
       " 89800.0,\n",
       " 89900.0,\n",
       " 90000.0,\n",
       " 90100.0,\n",
       " 90200.0,\n",
       " 90300.0,\n",
       " 90400.0,\n",
       " 90500.0,\n",
       " 90600.0,\n",
       " 90700.0,\n",
       " 90800.0,\n",
       " 90900.0,\n",
       " 91000.0,\n",
       " 91100.0,\n",
       " 91200.0,\n",
       " 91300.0,\n",
       " 91400.0,\n",
       " 91500.0,\n",
       " 91600.0,\n",
       " 91700.0,\n",
       " 91800.0,\n",
       " 91900.0,\n",
       " 92000.0,\n",
       " 92100.0,\n",
       " 92200.0,\n",
       " 92300.0,\n",
       " 92400.0,\n",
       " 92500.0,\n",
       " 92600.0,\n",
       " 92700.0,\n",
       " 92800.0,\n",
       " 92900.0,\n",
       " 93000.0,\n",
       " 93100.0,\n",
       " 93200.0,\n",
       " 93300.0,\n",
       " 93400.0,\n",
       " 93500.0,\n",
       " 93600.0,\n",
       " 93700.0,\n",
       " 93800.0,\n",
       " 93900.0,\n",
       " 94000.0,\n",
       " 94100.0,\n",
       " 94200.0,\n",
       " 94300.0,\n",
       " 94400.0,\n",
       " 94500.0,\n",
       " 94600.0,\n",
       " 94700.0,\n",
       " 94800.0,\n",
       " 94900.0,\n",
       " 95000.0,\n",
       " 95100.0,\n",
       " 95200.0,\n",
       " 95300.0,\n",
       " 95400.0,\n",
       " 95500.0,\n",
       " 95600.0,\n",
       " 95700.0,\n",
       " 95800.0,\n",
       " 95900.0,\n",
       " 96000.0,\n",
       " 96100.0,\n",
       " 96200.0,\n",
       " 96300.0,\n",
       " 96400.0,\n",
       " 96500.0,\n",
       " 96600.0,\n",
       " 96700.0,\n",
       " 96800.0,\n",
       " 96900.0,\n",
       " 97000.0,\n",
       " 97100.0,\n",
       " 97200.0,\n",
       " 97300.0,\n",
       " 97400.0,\n",
       " 97500.0,\n",
       " 97600.0,\n",
       " 97700.0,\n",
       " 97800.0,\n",
       " 97900.0,\n",
       " 98000.0,\n",
       " 98100.0,\n",
       " 98200.0,\n",
       " 98300.0,\n",
       " 98400.0,\n",
       " 98500.0,\n",
       " 98600.0,\n",
       " 98700.0,\n",
       " 98800.0,\n",
       " 98900.0,\n",
       " 99000.0,\n",
       " 99100.0,\n",
       " 99200.0,\n",
       " 99300.0,\n",
       " 99400.0,\n",
       " 99500.0,\n",
       " 99600.0,\n",
       " 99700.0,\n",
       " 99800.0,\n",
       " 99900.0,\n",
       " 100000.0,\n",
       " 100100.0,\n",
       " 100200.0,\n",
       " 100300.0,\n",
       " 100400.0,\n",
       " 100500.0,\n",
       " 100600.0,\n",
       " 100700.0,\n",
       " 100800.0,\n",
       " 100900.0,\n",
       " 101000.0,\n",
       " 101100.0,\n",
       " 101200.0,\n",
       " 101300.0,\n",
       " 101400.0,\n",
       " 101500.0,\n",
       " 101600.0,\n",
       " 101700.0,\n",
       " 101800.0,\n",
       " 101900.0,\n",
       " 102000.0,\n",
       " 102100.0,\n",
       " 102200.0,\n",
       " 102300.0,\n",
       " 102400.0,\n",
       " 102500.0,\n",
       " 102600.0,\n",
       " 102700.0,\n",
       " 102800.0,\n",
       " 102900.0,\n",
       " 103000.0,\n",
       " 103100.0,\n",
       " 103200.0,\n",
       " 103300.0,\n",
       " 103400.0,\n",
       " 103500.0,\n",
       " 103600.0,\n",
       " 103700.0,\n",
       " 103800.0,\n",
       " 103900.0,\n",
       " 104000.0,\n",
       " 104100.0,\n",
       " 104200.0,\n",
       " 104300.0,\n",
       " 104400.0,\n",
       " 104500.0,\n",
       " 104600.0,\n",
       " 104700.0,\n",
       " 104800.0,\n",
       " 104900.0,\n",
       " 105000.0,\n",
       " 105100.0,\n",
       " 105200.0,\n",
       " 105300.0,\n",
       " 105400.0,\n",
       " 105500.0,\n",
       " 105600.0,\n",
       " 105700.0,\n",
       " 105800.0,\n",
       " 105900.0,\n",
       " 106000.0,\n",
       " 106100.0,\n",
       " 106200.0,\n",
       " 106300.0,\n",
       " 106400.0,\n",
       " 106500.0,\n",
       " 106600.0,\n",
       " 106700.0,\n",
       " 106800.0,\n",
       " 106900.0,\n",
       " 107000.0,\n",
       " 107100.0,\n",
       " 107200.0,\n",
       " 107300.0,\n",
       " 107400.0,\n",
       " 107500.0,\n",
       " 107600.0,\n",
       " 107700.0,\n",
       " 107800.0,\n",
       " 107900.0,\n",
       " 108000.0,\n",
       " 108100.0,\n",
       " 108200.0,\n",
       " 108300.0,\n",
       " 108400.0,\n",
       " 108500.0,\n",
       " 108600.0,\n",
       " 108700.0,\n",
       " 108800.0,\n",
       " 108900.0,\n",
       " 109000.0,\n",
       " 109100.0,\n",
       " 109200.0,\n",
       " 109300.0,\n",
       " 109400.0,\n",
       " 109500.0,\n",
       " 109600.0,\n",
       " 109700.0,\n",
       " 109800.0,\n",
       " 109900.0,\n",
       " 110000.0,\n",
       " 110100.0,\n",
       " 110200.0,\n",
       " 110300.0,\n",
       " 110400.0,\n",
       " 110500.0,\n",
       " 110600.0,\n",
       " 110700.0,\n",
       " 110800.0,\n",
       " 110900.0,\n",
       " 111000.0,\n",
       " 111100.0,\n",
       " 111200.0,\n",
       " 111300.0,\n",
       " 111400.0,\n",
       " 111500.0,\n",
       " 111600.0,\n",
       " 111700.0,\n",
       " 111800.0,\n",
       " 111900.0,\n",
       " 112000.0,\n",
       " 112100.0,\n",
       " 112200.0,\n",
       " 112300.0,\n",
       " 112400.0,\n",
       " 112500.0,\n",
       " 112600.0,\n",
       " 112700.0,\n",
       " 112800.0,\n",
       " 112900.0,\n",
       " 113000.0,\n",
       " 113100.0,\n",
       " 113200.0,\n",
       " 113300.0,\n",
       " 113400.0,\n",
       " 113500.0,\n",
       " 113600.0,\n",
       " 113700.0,\n",
       " 113800.0,\n",
       " 113900.0,\n",
       " 114000.0,\n",
       " 114100.0,\n",
       " 114200.0,\n",
       " 114300.0,\n",
       " 114400.0,\n",
       " 114500.0,\n",
       " 114600.0,\n",
       " 114700.0,\n",
       " 114800.0,\n",
       " 114900.0,\n",
       " 115000.0,\n",
       " 115100.0,\n",
       " 115200.0,\n",
       " 115300.0,\n",
       " 115400.0,\n",
       " 115500.0,\n",
       " 115600.0,\n",
       " 115700.0,\n",
       " 115800.0,\n",
       " 115900.0,\n",
       " 116000.0,\n",
       " 116100.0,\n",
       " 116200.0,\n",
       " 116300.0,\n",
       " 116400.0,\n",
       " 116500.0,\n",
       " 116600.0,\n",
       " 116700.0,\n",
       " 116800.0,\n",
       " 116900.0,\n",
       " 117000.0,\n",
       " 117100.0,\n",
       " 117200.0,\n",
       " 117300.0,\n",
       " 117400.0,\n",
       " 117500.0,\n",
       " 117600.0,\n",
       " 117700.0,\n",
       " 117800.0,\n",
       " 117900.0,\n",
       " 118000.0,\n",
       " 118100.0,\n",
       " 118200.0,\n",
       " 118300.0,\n",
       " 118400.0,\n",
       " 118500.0,\n",
       " 118600.0,\n",
       " 118700.0,\n",
       " 118800.0,\n",
       " 118900.0,\n",
       " 119000.0,\n",
       " 119100.0,\n",
       " 119200.0,\n",
       " 119300.0,\n",
       " 119400.0,\n",
       " 119500.0,\n",
       " 119600.0,\n",
       " 119700.0,\n",
       " 119800.0,\n",
       " 119900.0,\n",
       " 120000.0,\n",
       " 120100.0,\n",
       " 120200.0,\n",
       " 120300.0,\n",
       " 120400.0,\n",
       " 120500.0,\n",
       " 120600.0,\n",
       " 120700.0,\n",
       " 120800.0,\n",
       " 120900.0,\n",
       " 121000.0,\n",
       " 121100.0,\n",
       " 121200.0,\n",
       " 121300.0,\n",
       " 121400.0,\n",
       " 121500.0,\n",
       " 121600.0,\n",
       " 121700.0,\n",
       " 121800.0,\n",
       " 121900.0,\n",
       " 122000.0,\n",
       " 122100.0,\n",
       " 122200.0,\n",
       " 122300.0,\n",
       " 122400.0,\n",
       " 122500.0,\n",
       " 122600.0,\n",
       " 122700.0,\n",
       " 122800.0,\n",
       " 122900.0,\n",
       " 123000.0,\n",
       " 123100.0,\n",
       " 123200.0,\n",
       " 123300.0,\n",
       " 123400.0,\n",
       " 123500.0,\n",
       " 123600.0,\n",
       " 123700.0,\n",
       " 123800.0,\n",
       " 123900.0,\n",
       " 124000.0,\n",
       " 124100.0,\n",
       " 124200.0,\n",
       " 124300.0,\n",
       " 124400.0,\n",
       " 124500.0,\n",
       " 124600.0,\n",
       " 124700.0,\n",
       " 124800.0,\n",
       " 124900.0,\n",
       " 125000.0,\n",
       " 125200.0,\n",
       " 125300.0,\n",
       " 125400.0,\n",
       " 125500.0,\n",
       " 125600.0,\n",
       " 125700.0,\n",
       " 125800.0,\n",
       " 125900.0,\n",
       " 126000.0,\n",
       " 126100.0,\n",
       " 126200.0,\n",
       " 126300.0,\n",
       " 126400.0,\n",
       " 126500.0,\n",
       " 126600.0,\n",
       " 126700.0,\n",
       " 126800.0,\n",
       " 126900.0,\n",
       " 127000.0,\n",
       " 127100.0,\n",
       " 127200.0,\n",
       " 127300.0,\n",
       " 127400.0,\n",
       " 127500.0,\n",
       " 127600.0,\n",
       " 127700.0,\n",
       " 127800.0,\n",
       " 127900.0,\n",
       " 128000.0,\n",
       " 128100.0,\n",
       " 128200.0,\n",
       " 128300.0,\n",
       " 128400.0,\n",
       " 128500.0,\n",
       " 128600.0,\n",
       " 128700.0,\n",
       " 128800.0,\n",
       " 128900.0,\n",
       " 129000.0,\n",
       " 129100.0,\n",
       " 129200.0,\n",
       " 129300.0,\n",
       " 129400.0,\n",
       " 129500.0,\n",
       " 129600.0,\n",
       " 129700.0,\n",
       " 129800.0,\n",
       " 129900.0,\n",
       " 130000.0,\n",
       " 130100.0,\n",
       " 130200.0,\n",
       " 130300.0,\n",
       " 130400.0,\n",
       " 130500.0,\n",
       " 130600.0,\n",
       " 130700.0,\n",
       " 130800.0,\n",
       " 130900.0,\n",
       " 131000.0,\n",
       " 131100.0,\n",
       " 131200.0,\n",
       " 131300.0,\n",
       " 131400.0,\n",
       " 131500.0,\n",
       " 131600.0,\n",
       " 131700.0,\n",
       " 131800.0,\n",
       " 131900.0,\n",
       " 132000.0,\n",
       " 132100.0,\n",
       " 132200.0,\n",
       " 132300.0,\n",
       " 132400.0,\n",
       " 132500.0,\n",
       " 132600.0,\n",
       " 132700.0,\n",
       " 132800.0,\n",
       " 132900.0,\n",
       " 133000.0,\n",
       " 133100.0,\n",
       " 133200.0,\n",
       " 133300.0,\n",
       " 133400.0,\n",
       " 133500.0,\n",
       " 133600.0,\n",
       " 133700.0,\n",
       " 133800.0,\n",
       " 133900.0,\n",
       " 134000.0,\n",
       " 134100.0,\n",
       " 134200.0,\n",
       " 134300.0,\n",
       " 134400.0,\n",
       " 134500.0,\n",
       " 134600.0,\n",
       " 134700.0,\n",
       " 134800.0,\n",
       " 134900.0,\n",
       " 135000.0,\n",
       " 135100.0,\n",
       " 135200.0,\n",
       " 135300.0,\n",
       " 135400.0,\n",
       " 135500.0,\n",
       " 135600.0,\n",
       " 135700.0,\n",
       " 135800.0,\n",
       " 135900.0,\n",
       " 136000.0,\n",
       " 136100.0,\n",
       " 136200.0,\n",
       " 136300.0,\n",
       " 136400.0,\n",
       " 136500.0,\n",
       " 136600.0,\n",
       " 136700.0,\n",
       " 136800.0,\n",
       " 136900.0,\n",
       " 137000.0,\n",
       " 137100.0,\n",
       " 137200.0,\n",
       " 137300.0,\n",
       " 137400.0,\n",
       " 137500.0,\n",
       " 137600.0,\n",
       " 137700.0,\n",
       " 137800.0,\n",
       " 137900.0,\n",
       " 138000.0,\n",
       " 138100.0,\n",
       " 138200.0,\n",
       " 138300.0,\n",
       " 138400.0,\n",
       " 138500.0,\n",
       " 138600.0,\n",
       " 138700.0,\n",
       " 138800.0,\n",
       " 138900.0,\n",
       " 139000.0,\n",
       " 139100.0,\n",
       " 139200.0,\n",
       " 139300.0,\n",
       " 139400.0,\n",
       " 139500.0,\n",
       " 139600.0,\n",
       " 139700.0,\n",
       " 139800.0,\n",
       " 139900.0,\n",
       " 140000.0,\n",
       " 140100.0,\n",
       " 140200.0,\n",
       " 140300.0,\n",
       " 140400.0,\n",
       " 140500.0,\n",
       " 140600.0,\n",
       " 140700.0,\n",
       " 140800.0,\n",
       " 140900.0,\n",
       " 141000.0,\n",
       " 141100.0,\n",
       " 141200.0,\n",
       " 141300.0,\n",
       " 141400.0,\n",
       " 141500.0,\n",
       " ...]"
      ]
     },
     "execution_count": 25,
     "metadata": {},
     "output_type": "execute_result"
    }
   ],
   "source": [
    "sorted(housing['median_house_value'].unique())"
   ]
  },
  {
   "cell_type": "markdown",
   "id": "prompt-exception",
   "metadata": {},
   "source": [
    "# Applying histogram to see the type of data we are having."
   ]
  },
  {
   "cell_type": "code",
   "execution_count": 26,
   "id": "polished-dynamics",
   "metadata": {},
   "outputs": [],
   "source": [
    "%matplotlib inline\n",
    "import matplotlib.pyplot as plt"
   ]
  },
  {
   "cell_type": "code",
   "execution_count": 27,
   "id": "collaborative-sandwich",
   "metadata": {},
   "outputs": [
    {
     "data": {
      "image/png": "[encoded data removed]",
      "text/plain": [
       "<Figure size 1440x1080 with 1 Axes>"
      ]
     },
     "metadata": {
      "needs_background": "light"
     },
     "output_type": "display_data"
    }
   ],
   "source": [
    "housing['median_income'].hist(bins=60,figsize=(20,15))\n",
    "plt.show()"
   ]
  },
  {
   "cell_type": "code",
   "execution_count": 28,
   "id": "strategic-dividend",
   "metadata": {},
   "outputs": [
    {
     "data": {
      "image/png": "[encoded data removed]",
      "text/plain": [
       "<Figure size 1440x1080 with 9 Axes>"
      ]
     },
     "metadata": {
      "needs_background": "light"
     },
     "output_type": "display_data"
    }
   ],
   "source": [
    "housing.hist(bins=60,figsize=(20,15))\n",
    "plt.show()"
   ]
  },
  {
   "cell_type": "markdown",
   "id": "genuine-boundary",
   "metadata": {},
   "source": [
    "# hist() explains:\n",
    "    * median_income is not in USD, it is actually tens of thousands of dollars. e.g 3 mean $ 30,000 dollars.\n",
    "    * median_income is capped at 15 for higher incomes and 0.5 for lower income.\n",
    "    * Similarly housing_median_age and median_house_value both are capped\n",
    "    * As our target columnm is median_house_value, which our machine is going to predict, may lean that price never go beyond 50,00000 higher capped value.\n",
    "    * If we are going to build a ML which need to predict beyond even capping value there there are two options before processing the data.\n",
    "        a) Collecting proper labels for districts which labels are capped.\n",
    "        b) Remove those districts from training and test set \n",
    "    * We need to do feature_scaling, as all these attributes are in different scales.\n",
    "    * Most of histograms are right_tailed, so we need to normalize (bell-shaped) the data as this may be a big problem for some ML models to detect the patterns (relationships)."
   ]
  },
  {
   "cell_type": "markdown",
   "id": "dominican-missile",
   "metadata": {},
   "source": [
    "# Sampling and creating training and test sets\n",
    "### There are two type of sampling \n",
    "    1. Random Sampling\n",
    "    2. Stratified Sampling\n",
    "\n",
    "* Random Sampling  \n",
    "This works fine if the dataset is large enough ralative to the number of attributes.\n",
    "In this case it may be skewed in test set sampling , results would be significantly biased.\n",
    "\n",
    "from sklearn.model_selection import train_test_split\n",
    "train_set,test_set=train_test_split(housing,test_size=.2,random_state=42)\n",
    "\n",
    "* Stratified Sampling\n",
    "e.g if total population is 1000,and there are 51% belongs to male and 49% belongs to female, \n",
    "then the ration of sampling should be apprrox 5100 for male adn 4900 for female.\n",
    "The whole population is divided into homogenious subgroups called strata.\n",
    "This helps to guarantee the test set represents the overall population.\n",
    "\n",
    "Should not have too many strata and each stratum should be large enough to avoid from baising.\n",
    "\n"
   ]
  },
  {
   "cell_type": "code",
   "execution_count": 29,
   "id": "funky-montana",
   "metadata": {},
   "outputs": [
    {
     "data": {
      "text/html": [
       "<div>\n",
       "<style scoped>\n",
       "    .dataframe tbody tr th:only-of-type {\n",
       "        vertical-align: middle;\n",
       "    }\n",
       "\n",
       "    .dataframe tbody tr th {\n",
       "        vertical-align: top;\n",
       "    }\n",
       "\n",
       "    .dataframe thead th {\n",
       "        text-align: right;\n",
       "    }\n",
       "</style>\n",
       "<table border=\"1\" class=\"dataframe\">\n",
       "  <thead>\n",
       "    <tr style=\"text-align: right;\">\n",
       "      <th></th>\n",
       "      <th>longitude</th>\n",
       "      <th>latitude</th>\n",
       "      <th>housing_median_age</th>\n",
       "      <th>total_rooms</th>\n",
       "      <th>total_bedrooms</th>\n",
       "      <th>population</th>\n",
       "      <th>households</th>\n",
       "      <th>median_income</th>\n",
       "      <th>median_house_value</th>\n",
       "    </tr>\n",
       "  </thead>\n",
       "  <tbody>\n",
       "    <tr>\n",
       "      <th>longitude</th>\n",
       "      <td>1.000000</td>\n",
       "      <td>-0.924664</td>\n",
       "      <td>-0.108197</td>\n",
       "      <td>0.044568</td>\n",
       "      <td>0.069608</td>\n",
       "      <td>0.099773</td>\n",
       "      <td>0.055310</td>\n",
       "      <td>-0.015176</td>\n",
       "      <td>-0.045967</td>\n",
       "    </tr>\n",
       "    <tr>\n",
       "      <th>latitude</th>\n",
       "      <td>-0.924664</td>\n",
       "      <td>1.000000</td>\n",
       "      <td>0.011173</td>\n",
       "      <td>-0.036100</td>\n",
       "      <td>-0.066983</td>\n",
       "      <td>-0.108785</td>\n",
       "      <td>-0.071035</td>\n",
       "      <td>-0.079809</td>\n",
       "      <td>-0.144160</td>\n",
       "    </tr>\n",
       "    <tr>\n",
       "      <th>housing_median_age</th>\n",
       "      <td>-0.108197</td>\n",
       "      <td>0.011173</td>\n",
       "      <td>1.000000</td>\n",
       "      <td>-0.361262</td>\n",
       "      <td>-0.320451</td>\n",
       "      <td>-0.296244</td>\n",
       "      <td>-0.302916</td>\n",
       "      <td>-0.119034</td>\n",
       "      <td>0.105623</td>\n",
       "    </tr>\n",
       "    <tr>\n",
       "      <th>total_rooms</th>\n",
       "      <td>0.044568</td>\n",
       "      <td>-0.036100</td>\n",
       "      <td>-0.361262</td>\n",
       "      <td>1.000000</td>\n",
       "      <td>0.930380</td>\n",
       "      <td>0.857126</td>\n",
       "      <td>0.918484</td>\n",
       "      <td>0.198050</td>\n",
       "      <td>0.134153</td>\n",
       "    </tr>\n",
       "    <tr>\n",
       "      <th>total_bedrooms</th>\n",
       "      <td>0.069608</td>\n",
       "      <td>-0.066983</td>\n",
       "      <td>-0.320451</td>\n",
       "      <td>0.930380</td>\n",
       "      <td>1.000000</td>\n",
       "      <td>0.877747</td>\n",
       "      <td>0.979728</td>\n",
       "      <td>-0.007723</td>\n",
       "      <td>0.049686</td>\n",
       "    </tr>\n",
       "    <tr>\n",
       "      <th>population</th>\n",
       "      <td>0.099773</td>\n",
       "      <td>-0.108785</td>\n",
       "      <td>-0.296244</td>\n",
       "      <td>0.857126</td>\n",
       "      <td>0.877747</td>\n",
       "      <td>1.000000</td>\n",
       "      <td>0.907222</td>\n",
       "      <td>0.004834</td>\n",
       "      <td>-0.024650</td>\n",
       "    </tr>\n",
       "    <tr>\n",
       "      <th>households</th>\n",
       "      <td>0.055310</td>\n",
       "      <td>-0.071035</td>\n",
       "      <td>-0.302916</td>\n",
       "      <td>0.918484</td>\n",
       "      <td>0.979728</td>\n",
       "      <td>0.907222</td>\n",
       "      <td>1.000000</td>\n",
       "      <td>0.013033</td>\n",
       "      <td>0.065843</td>\n",
       "    </tr>\n",
       "    <tr>\n",
       "      <th>median_income</th>\n",
       "      <td>-0.015176</td>\n",
       "      <td>-0.079809</td>\n",
       "      <td>-0.119034</td>\n",
       "      <td>0.198050</td>\n",
       "      <td>-0.007723</td>\n",
       "      <td>0.004834</td>\n",
       "      <td>0.013033</td>\n",
       "      <td>1.000000</td>\n",
       "      <td>0.688075</td>\n",
       "    </tr>\n",
       "    <tr>\n",
       "      <th>median_house_value</th>\n",
       "      <td>-0.045967</td>\n",
       "      <td>-0.144160</td>\n",
       "      <td>0.105623</td>\n",
       "      <td>0.134153</td>\n",
       "      <td>0.049686</td>\n",
       "      <td>-0.024650</td>\n",
       "      <td>0.065843</td>\n",
       "      <td>0.688075</td>\n",
       "      <td>1.000000</td>\n",
       "    </tr>\n",
       "  </tbody>\n",
       "</table>\n",
       "</div>"
      ],
      "text/plain": [
       "                    longitude  latitude  housing_median_age  total_rooms  \\\n",
       "longitude            1.000000 -0.924664           -0.108197     0.044568   \n",
       "latitude            -0.924664  1.000000            0.011173    -0.036100   \n",
       "housing_median_age  -0.108197  0.011173            1.000000    -0.361262   \n",
       "total_rooms          0.044568 -0.036100           -0.361262     1.000000   \n",
       "total_bedrooms       0.069608 -0.066983           -0.320451     0.930380   \n",
       "population           0.099773 -0.108785           -0.296244     0.857126   \n",
       "households           0.055310 -0.071035           -0.302916     0.918484   \n",
       "median_income       -0.015176 -0.079809           -0.119034     0.198050   \n",
       "median_house_value  -0.045967 -0.144160            0.105623     0.134153   \n",
       "\n",
       "                    total_bedrooms  population  households  median_income  \\\n",
       "longitude                 0.069608    0.099773    0.055310      -0.015176   \n",
       "latitude                 -0.066983   -0.108785   -0.071035      -0.079809   \n",
       "housing_median_age       -0.320451   -0.296244   -0.302916      -0.119034   \n",
       "total_rooms               0.930380    0.857126    0.918484       0.198050   \n",
       "total_bedrooms            1.000000    0.877747    0.979728      -0.007723   \n",
       "population                0.877747    1.000000    0.907222       0.004834   \n",
       "households                0.979728    0.907222    1.000000       0.013033   \n",
       "median_income            -0.007723    0.004834    0.013033       1.000000   \n",
       "median_house_value        0.049686   -0.024650    0.065843       0.688075   \n",
       "\n",
       "                    median_house_value  \n",
       "longitude                    -0.045967  \n",
       "latitude                     -0.144160  \n",
       "housing_median_age            0.105623  \n",
       "total_rooms                   0.134153  \n",
       "total_bedrooms                0.049686  \n",
       "population                   -0.024650  \n",
       "households                    0.065843  \n",
       "median_income                 0.688075  \n",
       "median_house_value            1.000000  "
      ]
     },
     "execution_count": 29,
     "metadata": {},
     "output_type": "execute_result"
    }
   ],
   "source": [
    "housing.corr()"
   ]
  },
  {
   "cell_type": "code",
   "execution_count": null,
   "id": "norman-needle",
   "metadata": {},
   "outputs": [],
   "source": []
  },
  {
   "cell_type": "code",
   "execution_count": 30,
   "id": "banner-cooperation",
   "metadata": {},
   "outputs": [],
   "source": [
    "# Creating strata on the basis of income\n",
    "housing['income_cat']=pd.cut(housing[\"median_income\"],\n",
    "                             bins=[0.,1.5,3.0,4.5,6.,np.inf],\n",
    "                             labels=[1,2,3,4,5])\n"
   ]
  },
  {
   "cell_type": "code",
   "execution_count": 31,
   "id": "terminal-economics",
   "metadata": {},
   "outputs": [
    {
     "data": {
      "text/html": [
       "<div>\n",
       "<style scoped>\n",
       "    .dataframe tbody tr th:only-of-type {\n",
       "        vertical-align: middle;\n",
       "    }\n",
       "\n",
       "    .dataframe tbody tr th {\n",
       "        vertical-align: top;\n",
       "    }\n",
       "\n",
       "    .dataframe thead th {\n",
       "        text-align: right;\n",
       "    }\n",
       "</style>\n",
       "<table border=\"1\" class=\"dataframe\">\n",
       "  <thead>\n",
       "    <tr style=\"text-align: right;\">\n",
       "      <th></th>\n",
       "      <th>longitude</th>\n",
       "      <th>latitude</th>\n",
       "      <th>housing_median_age</th>\n",
       "      <th>total_rooms</th>\n",
       "      <th>total_bedrooms</th>\n",
       "      <th>population</th>\n",
       "      <th>households</th>\n",
       "      <th>median_income</th>\n",
       "      <th>median_house_value</th>\n",
       "      <th>ocean_proximity</th>\n",
       "      <th>income_cat</th>\n",
       "    </tr>\n",
       "  </thead>\n",
       "  <tbody>\n",
       "    <tr>\n",
       "      <th>0</th>\n",
       "      <td>-122.23</td>\n",
       "      <td>37.88</td>\n",
       "      <td>41.0</td>\n",
       "      <td>880.0</td>\n",
       "      <td>129.0</td>\n",
       "      <td>322.0</td>\n",
       "      <td>126.0</td>\n",
       "      <td>8.3252</td>\n",
       "      <td>452600.0</td>\n",
       "      <td>NEAR BAY</td>\n",
       "      <td>5</td>\n",
       "    </tr>\n",
       "    <tr>\n",
       "      <th>1</th>\n",
       "      <td>-122.22</td>\n",
       "      <td>37.86</td>\n",
       "      <td>21.0</td>\n",
       "      <td>7099.0</td>\n",
       "      <td>1106.0</td>\n",
       "      <td>2401.0</td>\n",
       "      <td>1138.0</td>\n",
       "      <td>8.3014</td>\n",
       "      <td>358500.0</td>\n",
       "      <td>NEAR BAY</td>\n",
       "      <td>5</td>\n",
       "    </tr>\n",
       "    <tr>\n",
       "      <th>2</th>\n",
       "      <td>-122.24</td>\n",
       "      <td>37.85</td>\n",
       "      <td>52.0</td>\n",
       "      <td>1467.0</td>\n",
       "      <td>190.0</td>\n",
       "      <td>496.0</td>\n",
       "      <td>177.0</td>\n",
       "      <td>7.2574</td>\n",
       "      <td>352100.0</td>\n",
       "      <td>NEAR BAY</td>\n",
       "      <td>5</td>\n",
       "    </tr>\n",
       "    <tr>\n",
       "      <th>3</th>\n",
       "      <td>-122.25</td>\n",
       "      <td>37.85</td>\n",
       "      <td>52.0</td>\n",
       "      <td>1274.0</td>\n",
       "      <td>235.0</td>\n",
       "      <td>558.0</td>\n",
       "      <td>219.0</td>\n",
       "      <td>5.6431</td>\n",
       "      <td>341300.0</td>\n",
       "      <td>NEAR BAY</td>\n",
       "      <td>4</td>\n",
       "    </tr>\n",
       "    <tr>\n",
       "      <th>4</th>\n",
       "      <td>-122.25</td>\n",
       "      <td>37.85</td>\n",
       "      <td>52.0</td>\n",
       "      <td>1627.0</td>\n",
       "      <td>280.0</td>\n",
       "      <td>565.0</td>\n",
       "      <td>259.0</td>\n",
       "      <td>3.8462</td>\n",
       "      <td>342200.0</td>\n",
       "      <td>NEAR BAY</td>\n",
       "      <td>3</td>\n",
       "    </tr>\n",
       "  </tbody>\n",
       "</table>\n",
       "</div>"
      ],
      "text/plain": [
       "   longitude  latitude  housing_median_age  total_rooms  total_bedrooms  \\\n",
       "0    -122.23     37.88                41.0        880.0           129.0   \n",
       "1    -122.22     37.86                21.0       7099.0          1106.0   \n",
       "2    -122.24     37.85                52.0       1467.0           190.0   \n",
       "3    -122.25     37.85                52.0       1274.0           235.0   \n",
       "4    -122.25     37.85                52.0       1627.0           280.0   \n",
       "\n",
       "   population  households  median_income  median_house_value ocean_proximity  \\\n",
       "0       322.0       126.0         8.3252            452600.0        NEAR BAY   \n",
       "1      2401.0      1138.0         8.3014            358500.0        NEAR BAY   \n",
       "2       496.0       177.0         7.2574            352100.0        NEAR BAY   \n",
       "3       558.0       219.0         5.6431            341300.0        NEAR BAY   \n",
       "4       565.0       259.0         3.8462            342200.0        NEAR BAY   \n",
       "\n",
       "  income_cat  \n",
       "0          5  \n",
       "1          5  \n",
       "2          5  \n",
       "3          4  \n",
       "4          3  "
      ]
     },
     "execution_count": 31,
     "metadata": {},
     "output_type": "execute_result"
    }
   ],
   "source": [
    "housing.head()"
   ]
  },
  {
   "cell_type": "code",
   "execution_count": 32,
   "id": "decreased-grass",
   "metadata": {},
   "outputs": [
    {
     "data": {
      "text/plain": [
       "<AxesSubplot:>"
      ]
     },
     "execution_count": 32,
     "metadata": {},
     "output_type": "execute_result"
    },
    {
     "data": {
      "image/png": "[encoded data removed]",
      "text/plain": [
       "<Figure size 432x288 with 1 Axes>"
      ]
     },
     "metadata": {
      "needs_background": "light"
     },
     "output_type": "display_data"
    }
   ],
   "source": [
    "housing['income_cat'].hist()"
   ]
  },
  {
   "cell_type": "code",
   "execution_count": 33,
   "id": "orange-savings",
   "metadata": {},
   "outputs": [],
   "source": [
    "# Let us do stratified sampling based on income_cat\n",
    "from sklearn.model_selection import StratifiedShuffleSplit"
   ]
  },
  {
   "cell_type": "code",
   "execution_count": 34,
   "id": "buried-stewart",
   "metadata": {},
   "outputs": [
    {
     "data": {
      "text/html": [
       "<div>\n",
       "<style scoped>\n",
       "    .dataframe tbody tr th:only-of-type {\n",
       "        vertical-align: middle;\n",
       "    }\n",
       "\n",
       "    .dataframe tbody tr th {\n",
       "        vertical-align: top;\n",
       "    }\n",
       "\n",
       "    .dataframe thead th {\n",
       "        text-align: right;\n",
       "    }\n",
       "</style>\n",
       "<table border=\"1\" class=\"dataframe\">\n",
       "  <thead>\n",
       "    <tr style=\"text-align: right;\">\n",
       "      <th></th>\n",
       "      <th>longitude</th>\n",
       "      <th>latitude</th>\n",
       "      <th>housing_median_age</th>\n",
       "      <th>total_rooms</th>\n",
       "      <th>total_bedrooms</th>\n",
       "      <th>population</th>\n",
       "      <th>households</th>\n",
       "      <th>median_income</th>\n",
       "      <th>median_house_value</th>\n",
       "      <th>ocean_proximity</th>\n",
       "      <th>income_cat</th>\n",
       "    </tr>\n",
       "  </thead>\n",
       "  <tbody>\n",
       "    <tr>\n",
       "      <th>0</th>\n",
       "      <td>-122.23</td>\n",
       "      <td>37.88</td>\n",
       "      <td>41.0</td>\n",
       "      <td>880.0</td>\n",
       "      <td>129.0</td>\n",
       "      <td>322.0</td>\n",
       "      <td>126.0</td>\n",
       "      <td>8.3252</td>\n",
       "      <td>452600.0</td>\n",
       "      <td>NEAR BAY</td>\n",
       "      <td>5</td>\n",
       "    </tr>\n",
       "    <tr>\n",
       "      <th>1</th>\n",
       "      <td>-122.22</td>\n",
       "      <td>37.86</td>\n",
       "      <td>21.0</td>\n",
       "      <td>7099.0</td>\n",
       "      <td>1106.0</td>\n",
       "      <td>2401.0</td>\n",
       "      <td>1138.0</td>\n",
       "      <td>8.3014</td>\n",
       "      <td>358500.0</td>\n",
       "      <td>NEAR BAY</td>\n",
       "      <td>5</td>\n",
       "    </tr>\n",
       "    <tr>\n",
       "      <th>2</th>\n",
       "      <td>-122.24</td>\n",
       "      <td>37.85</td>\n",
       "      <td>52.0</td>\n",
       "      <td>1467.0</td>\n",
       "      <td>190.0</td>\n",
       "      <td>496.0</td>\n",
       "      <td>177.0</td>\n",
       "      <td>7.2574</td>\n",
       "      <td>352100.0</td>\n",
       "      <td>NEAR BAY</td>\n",
       "      <td>5</td>\n",
       "    </tr>\n",
       "    <tr>\n",
       "      <th>3</th>\n",
       "      <td>-122.25</td>\n",
       "      <td>37.85</td>\n",
       "      <td>52.0</td>\n",
       "      <td>1274.0</td>\n",
       "      <td>235.0</td>\n",
       "      <td>558.0</td>\n",
       "      <td>219.0</td>\n",
       "      <td>5.6431</td>\n",
       "      <td>341300.0</td>\n",
       "      <td>NEAR BAY</td>\n",
       "      <td>4</td>\n",
       "    </tr>\n",
       "    <tr>\n",
       "      <th>4</th>\n",
       "      <td>-122.25</td>\n",
       "      <td>37.85</td>\n",
       "      <td>52.0</td>\n",
       "      <td>1627.0</td>\n",
       "      <td>280.0</td>\n",
       "      <td>565.0</td>\n",
       "      <td>259.0</td>\n",
       "      <td>3.8462</td>\n",
       "      <td>342200.0</td>\n",
       "      <td>NEAR BAY</td>\n",
       "      <td>3</td>\n",
       "    </tr>\n",
       "  </tbody>\n",
       "</table>\n",
       "</div>"
      ],
      "text/plain": [
       "   longitude  latitude  housing_median_age  total_rooms  total_bedrooms  \\\n",
       "0    -122.23     37.88                41.0        880.0           129.0   \n",
       "1    -122.22     37.86                21.0       7099.0          1106.0   \n",
       "2    -122.24     37.85                52.0       1467.0           190.0   \n",
       "3    -122.25     37.85                52.0       1274.0           235.0   \n",
       "4    -122.25     37.85                52.0       1627.0           280.0   \n",
       "\n",
       "   population  households  median_income  median_house_value ocean_proximity  \\\n",
       "0       322.0       126.0         8.3252            452600.0        NEAR BAY   \n",
       "1      2401.0      1138.0         8.3014            358500.0        NEAR BAY   \n",
       "2       496.0       177.0         7.2574            352100.0        NEAR BAY   \n",
       "3       558.0       219.0         5.6431            341300.0        NEAR BAY   \n",
       "4       565.0       259.0         3.8462            342200.0        NEAR BAY   \n",
       "\n",
       "  income_cat  \n",
       "0          5  \n",
       "1          5  \n",
       "2          5  \n",
       "3          4  \n",
       "4          3  "
      ]
     },
     "execution_count": 34,
     "metadata": {},
     "output_type": "execute_result"
    }
   ],
   "source": [
    "housing.head()"
   ]
  },
  {
   "cell_type": "code",
   "execution_count": 35,
   "id": "advance-matrix",
   "metadata": {},
   "outputs": [
    {
     "data": {
      "text/plain": [
       "longitude              -122.25\n",
       "latitude                 37.85\n",
       "housing_median_age        52.0\n",
       "total_rooms             1274.0\n",
       "total_bedrooms           235.0\n",
       "population               558.0\n",
       "households               219.0\n",
       "median_income           5.6431\n",
       "median_house_value    341300.0\n",
       "ocean_proximity       NEAR BAY\n",
       "income_cat                   4\n",
       "Name: 3, dtype: object"
      ]
     },
     "execution_count": 35,
     "metadata": {},
     "output_type": "execute_result"
    }
   ],
   "source": [
    "housing.loc[3]"
   ]
  },
  {
   "cell_type": "code",
   "execution_count": 36,
   "id": "attractive-niagara",
   "metadata": {},
   "outputs": [
    {
     "data": {
      "text/plain": [
       "longitude              -122.24\n",
       "latitude                 37.85\n",
       "housing_median_age        52.0\n",
       "total_rooms             1467.0\n",
       "total_bedrooms           190.0\n",
       "population               496.0\n",
       "households               177.0\n",
       "median_income           7.2574\n",
       "median_house_value    352100.0\n",
       "ocean_proximity       NEAR BAY\n",
       "income_cat                   5\n",
       "Name: 2, dtype: object"
      ]
     },
     "execution_count": 36,
     "metadata": {},
     "output_type": "execute_result"
    }
   ],
   "source": [
    "housing.loc[2]"
   ]
  },
  {
   "cell_type": "code",
   "execution_count": 37,
   "id": "collective-daisy",
   "metadata": {},
   "outputs": [],
   "source": [
    "split=StratifiedShuffleSplit(n_splits=1,test_size=0.2,random_state=41)\n",
    "for train_index,test_index in split.split(housing,housing[\"income_cat\"]):\n",
    "    strat_train_set=housing.loc[train_index]\n",
    "    strat_test_set=housing.loc[test_index]"
   ]
  },
  {
   "cell_type": "code",
   "execution_count": 38,
   "id": "governing-tunisia",
   "metadata": {},
   "outputs": [
    {
     "data": {
      "text/plain": [
       "(20640, 11)"
      ]
     },
     "execution_count": 38,
     "metadata": {},
     "output_type": "execute_result"
    }
   ],
   "source": [
    "housing.shape"
   ]
  },
  {
   "cell_type": "code",
   "execution_count": 39,
   "id": "removed-notion",
   "metadata": {},
   "outputs": [
    {
     "data": {
      "text/plain": [
       "(16512, 11)"
      ]
     },
     "execution_count": 39,
     "metadata": {},
     "output_type": "execute_result"
    }
   ],
   "source": [
    "strat_train_set.shape"
   ]
  },
  {
   "cell_type": "code",
   "execution_count": 40,
   "id": "civic-jersey",
   "metadata": {},
   "outputs": [
    {
     "data": {
      "text/plain": [
       "(4128, 11)"
      ]
     },
     "execution_count": 40,
     "metadata": {},
     "output_type": "execute_result"
    }
   ],
   "source": [
    "strat_test_set.shape"
   ]
  },
  {
   "cell_type": "code",
   "execution_count": 41,
   "id": "collaborative-certification",
   "metadata": {},
   "outputs": [
    {
     "data": {
      "text/plain": [
       "4128"
      ]
     },
     "execution_count": 41,
     "metadata": {},
     "output_type": "execute_result"
    }
   ],
   "source": [
    "len(strat_test_set)"
   ]
  },
  {
   "cell_type": "code",
   "execution_count": 42,
   "id": "handy-drive",
   "metadata": {},
   "outputs": [
    {
     "data": {
      "text/plain": [
       "3    0.350594\n",
       "2    0.318859\n",
       "4    0.176296\n",
       "5    0.114402\n",
       "1    0.039850\n",
       "Name: income_cat, dtype: float64"
      ]
     },
     "execution_count": 42,
     "metadata": {},
     "output_type": "execute_result"
    }
   ],
   "source": [
    "strat_train_set[\"income_cat\"].value_counts()/len(strat_train_set)"
   ]
  },
  {
   "cell_type": "code",
   "execution_count": 43,
   "id": "homeless-powder",
   "metadata": {},
   "outputs": [
    {
     "data": {
      "text/plain": [
       "3    0.350533\n",
       "2    0.318798\n",
       "4    0.176357\n",
       "5    0.114583\n",
       "1    0.039729\n",
       "Name: income_cat, dtype: float64"
      ]
     },
     "execution_count": 43,
     "metadata": {},
     "output_type": "execute_result"
    }
   ],
   "source": [
    "# Let us see the income_cat proportions in test_set\n",
    "strat_test_set[\"income_cat\"].value_counts()/len(strat_test_set)"
   ]
  },
  {
   "cell_type": "code",
   "execution_count": 48,
   "id": "maritime-upset",
   "metadata": {},
   "outputs": [
    {
     "data": {
      "text/html": [
       "<div>\n",
       "<style scoped>\n",
       "    .dataframe tbody tr th:only-of-type {\n",
       "        vertical-align: middle;\n",
       "    }\n",
       "\n",
       "    .dataframe tbody tr th {\n",
       "        vertical-align: top;\n",
       "    }\n",
       "\n",
       "    .dataframe thead th {\n",
       "        text-align: right;\n",
       "    }\n",
       "</style>\n",
       "<table border=\"1\" class=\"dataframe\">\n",
       "  <thead>\n",
       "    <tr style=\"text-align: right;\">\n",
       "      <th></th>\n",
       "      <th>longitude</th>\n",
       "      <th>latitude</th>\n",
       "      <th>housing_median_age</th>\n",
       "      <th>total_rooms</th>\n",
       "      <th>total_bedrooms</th>\n",
       "      <th>population</th>\n",
       "      <th>households</th>\n",
       "      <th>median_income</th>\n",
       "      <th>median_house_value</th>\n",
       "      <th>ocean_proximity</th>\n",
       "    </tr>\n",
       "  </thead>\n",
       "  <tbody>\n",
       "    <tr>\n",
       "      <th>15159</th>\n",
       "      <td>-117.05</td>\n",
       "      <td>32.96</td>\n",
       "      <td>18.0</td>\n",
       "      <td>3593.0</td>\n",
       "      <td>661.0</td>\n",
       "      <td>1992.0</td>\n",
       "      <td>626.0</td>\n",
       "      <td>4.8295</td>\n",
       "      <td>165800.0</td>\n",
       "      <td>&lt;1H OCEAN</td>\n",
       "    </tr>\n",
       "    <tr>\n",
       "      <th>6733</th>\n",
       "      <td>-118.09</td>\n",
       "      <td>34.12</td>\n",
       "      <td>45.0</td>\n",
       "      <td>2966.0</td>\n",
       "      <td>415.0</td>\n",
       "      <td>1231.0</td>\n",
       "      <td>409.0</td>\n",
       "      <td>7.8347</td>\n",
       "      <td>500001.0</td>\n",
       "      <td>&lt;1H OCEAN</td>\n",
       "    </tr>\n",
       "    <tr>\n",
       "      <th>6422</th>\n",
       "      <td>-118.00</td>\n",
       "      <td>34.13</td>\n",
       "      <td>24.0</td>\n",
       "      <td>2584.0</td>\n",
       "      <td>520.0</td>\n",
       "      <td>1869.0</td>\n",
       "      <td>503.0</td>\n",
       "      <td>3.2841</td>\n",
       "      <td>167000.0</td>\n",
       "      <td>INLAND</td>\n",
       "    </tr>\n",
       "    <tr>\n",
       "      <th>317</th>\n",
       "      <td>-122.20</td>\n",
       "      <td>37.76</td>\n",
       "      <td>37.0</td>\n",
       "      <td>2680.0</td>\n",
       "      <td>736.0</td>\n",
       "      <td>1925.0</td>\n",
       "      <td>667.0</td>\n",
       "      <td>1.4097</td>\n",
       "      <td>84600.0</td>\n",
       "      <td>NEAR BAY</td>\n",
       "    </tr>\n",
       "    <tr>\n",
       "      <th>5385</th>\n",
       "      <td>-118.41</td>\n",
       "      <td>34.03</td>\n",
       "      <td>24.0</td>\n",
       "      <td>3711.0</td>\n",
       "      <td>1192.0</td>\n",
       "      <td>1764.0</td>\n",
       "      <td>1147.0</td>\n",
       "      <td>3.1642</td>\n",
       "      <td>366700.0</td>\n",
       "      <td>&lt;1H OCEAN</td>\n",
       "    </tr>\n",
       "  </tbody>\n",
       "</table>\n",
       "</div>"
      ],
      "text/plain": [
       "       longitude  latitude  housing_median_age  total_rooms  total_bedrooms  \\\n",
       "15159    -117.05     32.96                18.0       3593.0           661.0   \n",
       "6733     -118.09     34.12                45.0       2966.0           415.0   \n",
       "6422     -118.00     34.13                24.0       2584.0           520.0   \n",
       "317      -122.20     37.76                37.0       2680.0           736.0   \n",
       "5385     -118.41     34.03                24.0       3711.0          1192.0   \n",
       "\n",
       "       population  households  median_income  median_house_value  \\\n",
       "15159      1992.0       626.0         4.8295            165800.0   \n",
       "6733       1231.0       409.0         7.8347            500001.0   \n",
       "6422       1869.0       503.0         3.2841            167000.0   \n",
       "317        1925.0       667.0         1.4097             84600.0   \n",
       "5385       1764.0      1147.0         3.1642            366700.0   \n",
       "\n",
       "      ocean_proximity  \n",
       "15159       <1H OCEAN  \n",
       "6733        <1H OCEAN  \n",
       "6422           INLAND  \n",
       "317          NEAR BAY  \n",
       "5385        <1H OCEAN  "
      ]
     },
     "execution_count": 48,
     "metadata": {},
     "output_type": "execute_result"
    }
   ],
   "source": [
    "strat_test_set.head()"
   ]
  },
  {
   "cell_type": "code",
   "execution_count": 44,
   "id": "motivated-biography",
   "metadata": {},
   "outputs": [],
   "source": [
    "strat_test_set.drop(\"income_cat\",axis=1,inplace=True)"
   ]
  },
  {
   "cell_type": "code",
   "execution_count": 45,
   "id": "juvenile-deployment",
   "metadata": {},
   "outputs": [],
   "source": [
    "strat_train_set.drop(\"income_cat\",axis=1,inplace=True)"
   ]
  },
  {
   "cell_type": "code",
   "execution_count": 50,
   "id": "separated-outdoors",
   "metadata": {},
   "outputs": [
    {
     "name": "stdout",
     "output_type": "stream",
     "text": [
      "(16512, 10) (4128, 10)\n"
     ]
    }
   ],
   "source": [
    "print(strat_train_set.shape,strat_test_set.shape)"
   ]
  },
  {
   "cell_type": "code",
   "execution_count": null,
   "id": "continuous-milan",
   "metadata": {},
   "outputs": [],
   "source": []
  },
  {
   "cell_type": "markdown",
   "id": "solid-pollution",
   "metadata": {},
   "source": [
    "# Explorative Data Analysis"
   ]
  },
  {
   "cell_type": "code",
   "execution_count": 29,
   "id": "hindu-prophet",
   "metadata": {},
   "outputs": [],
   "source": [
    "# Let us explore training dataset separately.\n",
    "# Let us keep original traning dataset separately before moving for EDA part"
   ]
  },
  {
   "cell_type": "code",
   "execution_count": 51,
   "id": "optimum-disorder",
   "metadata": {},
   "outputs": [],
   "source": [
    "housing_train=strat_train_set.copy()"
   ]
  },
  {
   "cell_type": "markdown",
   "id": "charming-animal",
   "metadata": {},
   "source": [
    "### Visualizing geographical data"
   ]
  },
  {
   "cell_type": "code",
   "execution_count": 52,
   "id": "boring-jesus",
   "metadata": {
    "scrolled": true
   },
   "outputs": [
    {
     "data": {
      "text/plain": [
       "<AxesSubplot:xlabel='longitude', ylabel='latitude'>"
      ]
     },
     "execution_count": 52,
     "metadata": {},
     "output_type": "execute_result"
    },
    {
     "data": {
      "image/png": "[encoded data removed]",
      "text/plain": [
       "<Figure size 432x288 with 1 Axes>"
      ]
     },
     "metadata": {
      "needs_background": "light"
     },
     "output_type": "display_data"
    }
   ],
   "source": [
    "housing_train.plot(kind=\"scatter\",x='longitude',y='latitude')"
   ]
  },
  {
   "cell_type": "code",
   "execution_count": 54,
   "id": "monthly-criticism",
   "metadata": {},
   "outputs": [
    {
     "data": {
      "text/html": [
       "<div>\n",
       "<style scoped>\n",
       "    .dataframe tbody tr th:only-of-type {\n",
       "        vertical-align: middle;\n",
       "    }\n",
       "\n",
       "    .dataframe tbody tr th {\n",
       "        vertical-align: top;\n",
       "    }\n",
       "\n",
       "    .dataframe thead th {\n",
       "        text-align: right;\n",
       "    }\n",
       "</style>\n",
       "<table border=\"1\" class=\"dataframe\">\n",
       "  <thead>\n",
       "    <tr style=\"text-align: right;\">\n",
       "      <th></th>\n",
       "      <th>longitude</th>\n",
       "      <th>latitude</th>\n",
       "      <th>housing_median_age</th>\n",
       "      <th>total_rooms</th>\n",
       "      <th>total_bedrooms</th>\n",
       "      <th>population</th>\n",
       "      <th>households</th>\n",
       "      <th>median_income</th>\n",
       "      <th>median_house_value</th>\n",
       "      <th>ocean_proximity</th>\n",
       "    </tr>\n",
       "  </thead>\n",
       "  <tbody>\n",
       "    <tr>\n",
       "      <th>11632</th>\n",
       "      <td>-118.03</td>\n",
       "      <td>33.82</td>\n",
       "      <td>20.0</td>\n",
       "      <td>2662.0</td>\n",
       "      <td>464.0</td>\n",
       "      <td>1275.0</td>\n",
       "      <td>472.0</td>\n",
       "      <td>6.0162</td>\n",
       "      <td>318500.0</td>\n",
       "      <td>&lt;1H OCEAN</td>\n",
       "    </tr>\n",
       "    <tr>\n",
       "      <th>10673</th>\n",
       "      <td>-117.85</td>\n",
       "      <td>33.62</td>\n",
       "      <td>13.0</td>\n",
       "      <td>5192.0</td>\n",
       "      <td>658.0</td>\n",
       "      <td>1865.0</td>\n",
       "      <td>662.0</td>\n",
       "      <td>15.0001</td>\n",
       "      <td>500001.0</td>\n",
       "      <td>&lt;1H OCEAN</td>\n",
       "    </tr>\n",
       "  </tbody>\n",
       "</table>\n",
       "</div>"
      ],
      "text/plain": [
       "       longitude  latitude  housing_median_age  total_rooms  total_bedrooms  \\\n",
       "11632    -118.03     33.82                20.0       2662.0           464.0   \n",
       "10673    -117.85     33.62                13.0       5192.0           658.0   \n",
       "\n",
       "       population  households  median_income  median_house_value  \\\n",
       "11632      1275.0       472.0         6.0162            318500.0   \n",
       "10673      1865.0       662.0        15.0001            500001.0   \n",
       "\n",
       "      ocean_proximity  \n",
       "11632       <1H OCEAN  \n",
       "10673       <1H OCEAN  "
      ]
     },
     "execution_count": 54,
     "metadata": {},
     "output_type": "execute_result"
    }
   ],
   "source": [
    "housing_train.head(2)"
   ]
  },
  {
   "cell_type": "code",
   "execution_count": 55,
   "id": "alternative-recovery",
   "metadata": {},
   "outputs": [
    {
     "data": {
      "text/plain": [
       "<AxesSubplot:xlabel='longitude', ylabel='latitude'>"
      ]
     },
     "execution_count": 55,
     "metadata": {},
     "output_type": "execute_result"
    },
    {
     "data": {
      "image/png": "[encoded data removed]",
      "text/plain": [
       "<Figure size 432x288 with 1 Axes>"
      ]
     },
     "metadata": {
      "needs_background": "light"
     },
     "output_type": "display_data"
    }
   ],
   "source": [
    "housing_train.plot(kind=\"scatter\",x='longitude',y='latitude',alpha=0.2)"
   ]
  },
  {
   "cell_type": "code",
   "execution_count": 33,
   "id": "still-jackson",
   "metadata": {},
   "outputs": [],
   "source": [
    "# This helps to visualize the districts of high density areas like Bay areas, around Los Angeeles, San Diego, also density in central valley areas."
   ]
  },
  {
   "cell_type": "markdown",
   "id": "controversial-privacy",
   "metadata": {},
   "source": [
    "### Let us visualize the polulation vs price\n",
    "    * price represents the colors, using cmap =jet colour map\n",
    "    * Blue represents low values\n",
    "    * Red represents high values.\n",
    "    * Circle represents Population"
   ]
  },
  {
   "cell_type": "code",
   "execution_count": 57,
   "id": "included-paris",
   "metadata": {},
   "outputs": [
    {
     "data": {
      "text/plain": [
       "<matplotlib.legend.Legend at 0x2d73762cd30>"
      ]
     },
     "execution_count": 57,
     "metadata": {},
     "output_type": "execute_result"
    },
    {
     "data": {
      "image/png": "[encoded data removed]",
      "text/plain": [
       "<Figure size 1440x1080 with 2 Axes>"
      ]
     },
     "metadata": {
      "needs_background": "light"
     },
     "output_type": "display_data"
    }
   ],
   "source": [
    "housing_train.plot(kind=\"scatter\",x=\"longitude\",y=\"latitude\",alpha=0.4,\n",
    "                  s=housing_train[\"population\"]/100,label=\"population\",figsize=(20,15),\n",
    "                  c=\"median_house_value\",cmap=plt.get_cmap(\"jet\"),colorbar=True)\n",
    "plt.legend()"
   ]
  },
  {
   "cell_type": "markdown",
   "id": "narrow-merit",
   "metadata": {},
   "source": [
    "### This image represents the Prices are very much related to the density and the location (close to ocean)"
   ]
  },
  {
   "cell_type": "code",
   "execution_count": 35,
   "id": "biological-brook",
   "metadata": {},
   "outputs": [
    {
     "data": {
      "text/html": [
       "<div>\n",
       "<style scoped>\n",
       "    .dataframe tbody tr th:only-of-type {\n",
       "        vertical-align: middle;\n",
       "    }\n",
       "\n",
       "    .dataframe tbody tr th {\n",
       "        vertical-align: top;\n",
       "    }\n",
       "\n",
       "    .dataframe thead th {\n",
       "        text-align: right;\n",
       "    }\n",
       "</style>\n",
       "<table border=\"1\" class=\"dataframe\">\n",
       "  <thead>\n",
       "    <tr style=\"text-align: right;\">\n",
       "      <th></th>\n",
       "      <th>longitude</th>\n",
       "      <th>latitude</th>\n",
       "      <th>housing_median_age</th>\n",
       "      <th>total_rooms</th>\n",
       "      <th>total_bedrooms</th>\n",
       "      <th>population</th>\n",
       "      <th>households</th>\n",
       "      <th>median_income</th>\n",
       "      <th>median_house_value</th>\n",
       "      <th>ocean_proximity</th>\n",
       "    </tr>\n",
       "  </thead>\n",
       "  <tbody>\n",
       "    <tr>\n",
       "      <th>17606</th>\n",
       "      <td>-121.89</td>\n",
       "      <td>37.29</td>\n",
       "      <td>38.0</td>\n",
       "      <td>1568.0</td>\n",
       "      <td>351.0</td>\n",
       "      <td>710.0</td>\n",
       "      <td>339.0</td>\n",
       "      <td>2.7042</td>\n",
       "      <td>286600.0</td>\n",
       "      <td>&lt;1H OCEAN</td>\n",
       "    </tr>\n",
       "    <tr>\n",
       "      <th>18632</th>\n",
       "      <td>-121.93</td>\n",
       "      <td>37.05</td>\n",
       "      <td>14.0</td>\n",
       "      <td>679.0</td>\n",
       "      <td>108.0</td>\n",
       "      <td>306.0</td>\n",
       "      <td>113.0</td>\n",
       "      <td>6.4214</td>\n",
       "      <td>340600.0</td>\n",
       "      <td>&lt;1H OCEAN</td>\n",
       "    </tr>\n",
       "    <tr>\n",
       "      <th>14650</th>\n",
       "      <td>-117.20</td>\n",
       "      <td>32.77</td>\n",
       "      <td>31.0</td>\n",
       "      <td>1952.0</td>\n",
       "      <td>471.0</td>\n",
       "      <td>936.0</td>\n",
       "      <td>462.0</td>\n",
       "      <td>2.8621</td>\n",
       "      <td>196900.0</td>\n",
       "      <td>NEAR OCEAN</td>\n",
       "    </tr>\n",
       "    <tr>\n",
       "      <th>3230</th>\n",
       "      <td>-119.61</td>\n",
       "      <td>36.31</td>\n",
       "      <td>25.0</td>\n",
       "      <td>1847.0</td>\n",
       "      <td>371.0</td>\n",
       "      <td>1460.0</td>\n",
       "      <td>353.0</td>\n",
       "      <td>1.8839</td>\n",
       "      <td>46300.0</td>\n",
       "      <td>INLAND</td>\n",
       "    </tr>\n",
       "    <tr>\n",
       "      <th>3555</th>\n",
       "      <td>-118.59</td>\n",
       "      <td>34.23</td>\n",
       "      <td>17.0</td>\n",
       "      <td>6592.0</td>\n",
       "      <td>1525.0</td>\n",
       "      <td>4459.0</td>\n",
       "      <td>1463.0</td>\n",
       "      <td>3.0347</td>\n",
       "      <td>254500.0</td>\n",
       "      <td>&lt;1H OCEAN</td>\n",
       "    </tr>\n",
       "  </tbody>\n",
       "</table>\n",
       "</div>"
      ],
      "text/plain": [
       "       longitude  latitude  housing_median_age  total_rooms  total_bedrooms  \\\n",
       "17606    -121.89     37.29                38.0       1568.0           351.0   \n",
       "18632    -121.93     37.05                14.0        679.0           108.0   \n",
       "14650    -117.20     32.77                31.0       1952.0           471.0   \n",
       "3230     -119.61     36.31                25.0       1847.0           371.0   \n",
       "3555     -118.59     34.23                17.0       6592.0          1525.0   \n",
       "\n",
       "       population  households  median_income  median_house_value  \\\n",
       "17606       710.0       339.0         2.7042            286600.0   \n",
       "18632       306.0       113.0         6.4214            340600.0   \n",
       "14650       936.0       462.0         2.8621            196900.0   \n",
       "3230       1460.0       353.0         1.8839             46300.0   \n",
       "3555       4459.0      1463.0         3.0347            254500.0   \n",
       "\n",
       "      ocean_proximity  \n",
       "17606       <1H OCEAN  \n",
       "18632       <1H OCEAN  \n",
       "14650      NEAR OCEAN  \n",
       "3230           INLAND  \n",
       "3555        <1H OCEAN  "
      ]
     },
     "execution_count": 35,
     "metadata": {},
     "output_type": "execute_result"
    }
   ],
   "source": [
    "housing_train.head()"
   ]
  },
  {
   "cell_type": "code",
   "execution_count": 36,
   "id": "aware-carnival",
   "metadata": {},
   "outputs": [],
   "source": [
    "# Looking for Co-relation"
   ]
  },
  {
   "cell_type": "code",
   "execution_count": 37,
   "id": "intended-patrick",
   "metadata": {},
   "outputs": [],
   "source": [
    "corr_matrix=housing_train.corr()"
   ]
  },
  {
   "cell_type": "code",
   "execution_count": 38,
   "id": "drawn-possible",
   "metadata": {},
   "outputs": [
    {
     "data": {
      "text/html": [
       "<div>\n",
       "<style scoped>\n",
       "    .dataframe tbody tr th:only-of-type {\n",
       "        vertical-align: middle;\n",
       "    }\n",
       "\n",
       "    .dataframe tbody tr th {\n",
       "        vertical-align: top;\n",
       "    }\n",
       "\n",
       "    .dataframe thead th {\n",
       "        text-align: right;\n",
       "    }\n",
       "</style>\n",
       "<table border=\"1\" class=\"dataframe\">\n",
       "  <thead>\n",
       "    <tr style=\"text-align: right;\">\n",
       "      <th></th>\n",
       "      <th>longitude</th>\n",
       "      <th>latitude</th>\n",
       "      <th>housing_median_age</th>\n",
       "      <th>total_rooms</th>\n",
       "      <th>total_bedrooms</th>\n",
       "      <th>population</th>\n",
       "      <th>households</th>\n",
       "      <th>median_income</th>\n",
       "      <th>median_house_value</th>\n",
       "    </tr>\n",
       "  </thead>\n",
       "  <tbody>\n",
       "    <tr>\n",
       "      <th>longitude</th>\n",
       "      <td>1.000000</td>\n",
       "      <td>-0.924478</td>\n",
       "      <td>-0.105848</td>\n",
       "      <td>0.048871</td>\n",
       "      <td>0.076598</td>\n",
       "      <td>0.108030</td>\n",
       "      <td>0.063070</td>\n",
       "      <td>-0.019583</td>\n",
       "      <td>-0.047432</td>\n",
       "    </tr>\n",
       "    <tr>\n",
       "      <th>latitude</th>\n",
       "      <td>-0.924478</td>\n",
       "      <td>1.000000</td>\n",
       "      <td>0.005766</td>\n",
       "      <td>-0.039184</td>\n",
       "      <td>-0.072419</td>\n",
       "      <td>-0.115222</td>\n",
       "      <td>-0.077647</td>\n",
       "      <td>-0.075205</td>\n",
       "      <td>-0.142724</td>\n",
       "    </tr>\n",
       "    <tr>\n",
       "      <th>housing_median_age</th>\n",
       "      <td>-0.105848</td>\n",
       "      <td>0.005766</td>\n",
       "      <td>1.000000</td>\n",
       "      <td>-0.364509</td>\n",
       "      <td>-0.325047</td>\n",
       "      <td>-0.298710</td>\n",
       "      <td>-0.306428</td>\n",
       "      <td>-0.111360</td>\n",
       "      <td>0.114110</td>\n",
       "    </tr>\n",
       "    <tr>\n",
       "      <th>total_rooms</th>\n",
       "      <td>0.048871</td>\n",
       "      <td>-0.039184</td>\n",
       "      <td>-0.364509</td>\n",
       "      <td>1.000000</td>\n",
       "      <td>0.929379</td>\n",
       "      <td>0.855109</td>\n",
       "      <td>0.918392</td>\n",
       "      <td>0.200087</td>\n",
       "      <td>0.135097</td>\n",
       "    </tr>\n",
       "    <tr>\n",
       "      <th>total_bedrooms</th>\n",
       "      <td>0.076598</td>\n",
       "      <td>-0.072419</td>\n",
       "      <td>-0.325047</td>\n",
       "      <td>0.929379</td>\n",
       "      <td>1.000000</td>\n",
       "      <td>0.876320</td>\n",
       "      <td>0.980170</td>\n",
       "      <td>-0.009740</td>\n",
       "      <td>0.047689</td>\n",
       "    </tr>\n",
       "    <tr>\n",
       "      <th>population</th>\n",
       "      <td>0.108030</td>\n",
       "      <td>-0.115222</td>\n",
       "      <td>-0.298710</td>\n",
       "      <td>0.855109</td>\n",
       "      <td>0.876320</td>\n",
       "      <td>1.000000</td>\n",
       "      <td>0.904637</td>\n",
       "      <td>0.002380</td>\n",
       "      <td>-0.026920</td>\n",
       "    </tr>\n",
       "    <tr>\n",
       "      <th>households</th>\n",
       "      <td>0.063070</td>\n",
       "      <td>-0.077647</td>\n",
       "      <td>-0.306428</td>\n",
       "      <td>0.918392</td>\n",
       "      <td>0.980170</td>\n",
       "      <td>0.904637</td>\n",
       "      <td>1.000000</td>\n",
       "      <td>0.010781</td>\n",
       "      <td>0.064506</td>\n",
       "    </tr>\n",
       "    <tr>\n",
       "      <th>median_income</th>\n",
       "      <td>-0.019583</td>\n",
       "      <td>-0.075205</td>\n",
       "      <td>-0.111360</td>\n",
       "      <td>0.200087</td>\n",
       "      <td>-0.009740</td>\n",
       "      <td>0.002380</td>\n",
       "      <td>0.010781</td>\n",
       "      <td>1.000000</td>\n",
       "      <td>0.687160</td>\n",
       "    </tr>\n",
       "    <tr>\n",
       "      <th>median_house_value</th>\n",
       "      <td>-0.047432</td>\n",
       "      <td>-0.142724</td>\n",
       "      <td>0.114110</td>\n",
       "      <td>0.135097</td>\n",
       "      <td>0.047689</td>\n",
       "      <td>-0.026920</td>\n",
       "      <td>0.064506</td>\n",
       "      <td>0.687160</td>\n",
       "      <td>1.000000</td>\n",
       "    </tr>\n",
       "  </tbody>\n",
       "</table>\n",
       "</div>"
      ],
      "text/plain": [
       "                    longitude  latitude  housing_median_age  total_rooms  \\\n",
       "longitude            1.000000 -0.924478           -0.105848     0.048871   \n",
       "latitude            -0.924478  1.000000            0.005766    -0.039184   \n",
       "housing_median_age  -0.105848  0.005766            1.000000    -0.364509   \n",
       "total_rooms          0.048871 -0.039184           -0.364509     1.000000   \n",
       "total_bedrooms       0.076598 -0.072419           -0.325047     0.929379   \n",
       "population           0.108030 -0.115222           -0.298710     0.855109   \n",
       "households           0.063070 -0.077647           -0.306428     0.918392   \n",
       "median_income       -0.019583 -0.075205           -0.111360     0.200087   \n",
       "median_house_value  -0.047432 -0.142724            0.114110     0.135097   \n",
       "\n",
       "                    total_bedrooms  population  households  median_income  \\\n",
       "longitude                 0.076598    0.108030    0.063070      -0.019583   \n",
       "latitude                 -0.072419   -0.115222   -0.077647      -0.075205   \n",
       "housing_median_age       -0.325047   -0.298710   -0.306428      -0.111360   \n",
       "total_rooms               0.929379    0.855109    0.918392       0.200087   \n",
       "total_bedrooms            1.000000    0.876320    0.980170      -0.009740   \n",
       "population                0.876320    1.000000    0.904637       0.002380   \n",
       "households                0.980170    0.904637    1.000000       0.010781   \n",
       "median_income            -0.009740    0.002380    0.010781       1.000000   \n",
       "median_house_value        0.047689   -0.026920    0.064506       0.687160   \n",
       "\n",
       "                    median_house_value  \n",
       "longitude                    -0.047432  \n",
       "latitude                     -0.142724  \n",
       "housing_median_age            0.114110  \n",
       "total_rooms                   0.135097  \n",
       "total_bedrooms                0.047689  \n",
       "population                   -0.026920  \n",
       "households                    0.064506  \n",
       "median_income                 0.687160  \n",
       "median_house_value            1.000000  "
      ]
     },
     "execution_count": 38,
     "metadata": {},
     "output_type": "execute_result"
    }
   ],
   "source": [
    "corr_matrix"
   ]
  },
  {
   "cell_type": "code",
   "execution_count": 39,
   "id": "antique-photography",
   "metadata": {},
   "outputs": [
    {
     "data": {
      "text/plain": [
       "median_house_value    1.000000\n",
       "median_income         0.687160\n",
       "total_rooms           0.135097\n",
       "housing_median_age    0.114110\n",
       "households            0.064506\n",
       "total_bedrooms        0.047689\n",
       "population           -0.026920\n",
       "longitude            -0.047432\n",
       "latitude             -0.142724\n",
       "Name: median_house_value, dtype: float64"
      ]
     },
     "execution_count": 39,
     "metadata": {},
     "output_type": "execute_result"
    }
   ],
   "source": [
    "corr_matrix['median_house_value'].sort_values(ascending=False)"
   ]
  },
  {
   "cell_type": "markdown",
   "id": "going-offense",
   "metadata": {},
   "source": [
    "### Correlation coefficient (Linear correlation) ranges from -1 to +1.\n",
    "* When close to 1 means strong +ve correlation e.g. values tends to go up when income goes up.\n",
    "* latitude is having slightly -ve correlation e.g. values tends to go down when we move towards north.\n",
    "* Coeffient close to zero means there is no linear correlation."
   ]
  },
  {
   "cell_type": "code",
   "execution_count": 41,
   "id": "hired-charm",
   "metadata": {},
   "outputs": [],
   "source": [
    "# Visualizing correlation matrix"
   ]
  },
  {
   "cell_type": "code",
   "execution_count": 58,
   "id": "animal-longitude",
   "metadata": {},
   "outputs": [],
   "source": [
    "from pandas.plotting import scatter_matrix"
   ]
  },
  {
   "cell_type": "code",
   "execution_count": 62,
   "id": "painted-receiver",
   "metadata": {},
   "outputs": [
    {
     "data": {
      "image/png": "[encoded data removed]",
      "text/plain": [
       "<Figure size 864x576 with 16 Axes>"
      ]
     },
     "metadata": {
      "needs_background": "light"
     },
     "output_type": "display_data"
    }
   ],
   "source": [
    "x=['median_house_value','median_income','total_rooms','housing_median_age']\n",
    "scatter_matrix(housing_train[x],figsize=(12,8))\n",
    "plt.show()"
   ]
  },
  {
   "cell_type": "markdown",
   "id": "patent-match",
   "metadata": {},
   "source": [
    "### The most promising attribute to predict the median house value is hte median income. Let's zoom and analyze"
   ]
  },
  {
   "cell_type": "code",
   "execution_count": 44,
   "id": "breeding-visitor",
   "metadata": {},
   "outputs": [
    {
     "data": {
      "image/png": "[encoded data removed]",
      "text/plain": [
       "<Figure size 432x288 with 1 Axes>"
      ]
     },
     "metadata": {
      "needs_background": "light"
     },
     "output_type": "display_data"
    }
   ],
   "source": [
    "housing_train.plot(kind=\"scatter\",x=\"median_income\",y=\"median_house_value\",alpha=0.1)\n",
    "plt.show()"
   ]
  },
  {
   "cell_type": "markdown",
   "id": "variable-machine",
   "metadata": {},
   "source": [
    "### Correlation indeed very strong.\n",
    "    * The price cap cleary visible aa a horizontal line at $5000000, another at $450000, and at $350000\n",
    "    * Hence few data quirks are there.\n",
    "    * Some attributes are heavy-tailed distribution."
   ]
  },
  {
   "cell_type": "code",
   "execution_count": 63,
   "id": "interesting-arabic",
   "metadata": {},
   "outputs": [
    {
     "data": {
      "text/html": [
       "<div>\n",
       "<style scoped>\n",
       "    .dataframe tbody tr th:only-of-type {\n",
       "        vertical-align: middle;\n",
       "    }\n",
       "\n",
       "    .dataframe tbody tr th {\n",
       "        vertical-align: top;\n",
       "    }\n",
       "\n",
       "    .dataframe thead th {\n",
       "        text-align: right;\n",
       "    }\n",
       "</style>\n",
       "<table border=\"1\" class=\"dataframe\">\n",
       "  <thead>\n",
       "    <tr style=\"text-align: right;\">\n",
       "      <th></th>\n",
       "      <th>longitude</th>\n",
       "      <th>latitude</th>\n",
       "      <th>housing_median_age</th>\n",
       "      <th>total_rooms</th>\n",
       "      <th>total_bedrooms</th>\n",
       "      <th>population</th>\n",
       "      <th>households</th>\n",
       "      <th>median_income</th>\n",
       "      <th>median_house_value</th>\n",
       "      <th>ocean_proximity</th>\n",
       "    </tr>\n",
       "  </thead>\n",
       "  <tbody>\n",
       "    <tr>\n",
       "      <th>11632</th>\n",
       "      <td>-118.03</td>\n",
       "      <td>33.82</td>\n",
       "      <td>20.0</td>\n",
       "      <td>2662.0</td>\n",
       "      <td>464.0</td>\n",
       "      <td>1275.0</td>\n",
       "      <td>472.0</td>\n",
       "      <td>6.0162</td>\n",
       "      <td>318500.0</td>\n",
       "      <td>&lt;1H OCEAN</td>\n",
       "    </tr>\n",
       "    <tr>\n",
       "      <th>10673</th>\n",
       "      <td>-117.85</td>\n",
       "      <td>33.62</td>\n",
       "      <td>13.0</td>\n",
       "      <td>5192.0</td>\n",
       "      <td>658.0</td>\n",
       "      <td>1865.0</td>\n",
       "      <td>662.0</td>\n",
       "      <td>15.0001</td>\n",
       "      <td>500001.0</td>\n",
       "      <td>&lt;1H OCEAN</td>\n",
       "    </tr>\n",
       "  </tbody>\n",
       "</table>\n",
       "</div>"
      ],
      "text/plain": [
       "       longitude  latitude  housing_median_age  total_rooms  total_bedrooms  \\\n",
       "11632    -118.03     33.82                20.0       2662.0           464.0   \n",
       "10673    -117.85     33.62                13.0       5192.0           658.0   \n",
       "\n",
       "       population  households  median_income  median_house_value  \\\n",
       "11632      1275.0       472.0         6.0162            318500.0   \n",
       "10673      1865.0       662.0        15.0001            500001.0   \n",
       "\n",
       "      ocean_proximity  \n",
       "11632       <1H OCEAN  \n",
       "10673       <1H OCEAN  "
      ]
     },
     "execution_count": 63,
     "metadata": {},
     "output_type": "execute_result"
    }
   ],
   "source": [
    "housing_train.head(2)"
   ]
  },
  {
   "cell_type": "markdown",
   "id": "accessory-graham",
   "metadata": {},
   "source": [
    "### Rather to understand numbe of rooms in a district, better to know how many households are there (rooms per household)\n",
    "### similarly rather to understand the no of bedrooms, better to compare with no of rooms.(bedoroms per room)\n",
    "### Similary population per household.(population per household)\n",
    "### So let's create new attributes"
   ]
  },
  {
   "cell_type": "code",
   "execution_count": 64,
   "id": "greater-defensive",
   "metadata": {},
   "outputs": [],
   "source": [
    "housing_train[\"rooms_per_household\"]=housing_train[\"total_rooms\"]/housing_train[\"households\"]\n",
    "housing_train[\"bedrooms_per_room\"]=housing_train[\"total_bedrooms\"]/housing_train[\"total_rooms\"]\n",
    "housing_train[\"population_per_household\"]=housing_train[\"population\"]/housing_train[\"households\"]"
   ]
  },
  {
   "cell_type": "code",
   "execution_count": 65,
   "id": "approved-thermal",
   "metadata": {},
   "outputs": [
    {
     "data": {
      "text/plain": [
       "(16512, 13)"
      ]
     },
     "execution_count": 65,
     "metadata": {},
     "output_type": "execute_result"
    }
   ],
   "source": [
    "housing_train.shape"
   ]
  },
  {
   "cell_type": "code",
   "execution_count": 68,
   "id": "complimentary-subscription",
   "metadata": {},
   "outputs": [
    {
     "data": {
      "text/html": [
       "<div>\n",
       "<style scoped>\n",
       "    .dataframe tbody tr th:only-of-type {\n",
       "        vertical-align: middle;\n",
       "    }\n",
       "\n",
       "    .dataframe tbody tr th {\n",
       "        vertical-align: top;\n",
       "    }\n",
       "\n",
       "    .dataframe thead th {\n",
       "        text-align: right;\n",
       "    }\n",
       "</style>\n",
       "<table border=\"1\" class=\"dataframe\">\n",
       "  <thead>\n",
       "    <tr style=\"text-align: right;\">\n",
       "      <th></th>\n",
       "      <th>longitude</th>\n",
       "      <th>latitude</th>\n",
       "      <th>housing_median_age</th>\n",
       "      <th>total_rooms</th>\n",
       "      <th>total_bedrooms</th>\n",
       "      <th>population</th>\n",
       "      <th>households</th>\n",
       "      <th>median_income</th>\n",
       "      <th>median_house_value</th>\n",
       "      <th>ocean_proximity</th>\n",
       "      <th>rooms_per_household</th>\n",
       "      <th>bedrooms_per_room</th>\n",
       "      <th>population_per_household</th>\n",
       "    </tr>\n",
       "  </thead>\n",
       "  <tbody>\n",
       "    <tr>\n",
       "      <th>11632</th>\n",
       "      <td>-118.03</td>\n",
       "      <td>33.82</td>\n",
       "      <td>20.0</td>\n",
       "      <td>2662.0</td>\n",
       "      <td>464.0</td>\n",
       "      <td>1275.0</td>\n",
       "      <td>472.0</td>\n",
       "      <td>6.0162</td>\n",
       "      <td>318500.0</td>\n",
       "      <td>&lt;1H OCEAN</td>\n",
       "      <td>5.639831</td>\n",
       "      <td>0.174305</td>\n",
       "      <td>2.701271</td>\n",
       "    </tr>\n",
       "    <tr>\n",
       "      <th>10673</th>\n",
       "      <td>-117.85</td>\n",
       "      <td>33.62</td>\n",
       "      <td>13.0</td>\n",
       "      <td>5192.0</td>\n",
       "      <td>658.0</td>\n",
       "      <td>1865.0</td>\n",
       "      <td>662.0</td>\n",
       "      <td>15.0001</td>\n",
       "      <td>500001.0</td>\n",
       "      <td>&lt;1H OCEAN</td>\n",
       "      <td>7.842900</td>\n",
       "      <td>0.126733</td>\n",
       "      <td>2.817221</td>\n",
       "    </tr>\n",
       "    <tr>\n",
       "      <th>12532</th>\n",
       "      <td>-121.51</td>\n",
       "      <td>38.57</td>\n",
       "      <td>36.0</td>\n",
       "      <td>613.0</td>\n",
       "      <td>166.0</td>\n",
       "      <td>425.0</td>\n",
       "      <td>147.0</td>\n",
       "      <td>2.2031</td>\n",
       "      <td>93800.0</td>\n",
       "      <td>INLAND</td>\n",
       "      <td>4.170068</td>\n",
       "      <td>0.270799</td>\n",
       "      <td>2.891156</td>\n",
       "    </tr>\n",
       "  </tbody>\n",
       "</table>\n",
       "</div>"
      ],
      "text/plain": [
       "       longitude  latitude  housing_median_age  total_rooms  total_bedrooms  \\\n",
       "11632    -118.03     33.82                20.0       2662.0           464.0   \n",
       "10673    -117.85     33.62                13.0       5192.0           658.0   \n",
       "12532    -121.51     38.57                36.0        613.0           166.0   \n",
       "\n",
       "       population  households  median_income  median_house_value  \\\n",
       "11632      1275.0       472.0         6.0162            318500.0   \n",
       "10673      1865.0       662.0        15.0001            500001.0   \n",
       "12532       425.0       147.0         2.2031             93800.0   \n",
       "\n",
       "      ocean_proximity  rooms_per_household  bedrooms_per_room  \\\n",
       "11632       <1H OCEAN             5.639831           0.174305   \n",
       "10673       <1H OCEAN             7.842900           0.126733   \n",
       "12532          INLAND             4.170068           0.270799   \n",
       "\n",
       "       population_per_household  \n",
       "11632                  2.701271  \n",
       "10673                  2.817221  \n",
       "12532                  2.891156  "
      ]
     },
     "execution_count": 68,
     "metadata": {},
     "output_type": "execute_result"
    }
   ],
   "source": [
    "housing_train.head(3)"
   ]
  },
  {
   "cell_type": "code",
   "execution_count": 80,
   "id": "negative-touch",
   "metadata": {},
   "outputs": [
    {
     "data": {
      "text/plain": [
       "bedrooms_per_room          -0.256628\n",
       "latitude                   -0.141620\n",
       "longitude                  -0.049897\n",
       "population_per_household   -0.032129\n",
       "population                 -0.024677\n",
       "total_bedrooms              0.046671\n",
       "households                  0.063285\n",
       "housing_median_age          0.111686\n",
       "total_rooms                 0.131987\n",
       "rooms_per_household         0.155908\n",
       "median_income               0.687668\n",
       "median_house_value          1.000000\n",
       "Name: median_house_value, dtype: float64"
      ]
     },
     "execution_count": 80,
     "metadata": {},
     "output_type": "execute_result"
    }
   ],
   "source": [
    "housing_train.corr()['median_house_value'].sort_values()"
   ]
  },
  {
   "cell_type": "code",
   "execution_count": 74,
   "id": "continent-roommate",
   "metadata": {},
   "outputs": [],
   "source": [
    "corr_matrix=housing_train.corr()"
   ]
  },
  {
   "cell_type": "code",
   "execution_count": 47,
   "id": "yellow-professional",
   "metadata": {},
   "outputs": [
    {
     "data": {
      "text/plain": [
       "median_house_value          1.000000\n",
       "median_income               0.687160\n",
       "rooms_per_household         0.146285\n",
       "total_rooms                 0.135097\n",
       "housing_median_age          0.114110\n",
       "households                  0.064506\n",
       "total_bedrooms              0.047689\n",
       "population_per_household   -0.021985\n",
       "population                 -0.026920\n",
       "longitude                  -0.047432\n",
       "latitude                   -0.142724\n",
       "bedrooms_per_room          -0.259984\n",
       "Name: median_house_value, dtype: float64"
      ]
     },
     "execution_count": 47,
     "metadata": {},
     "output_type": "execute_result"
    }
   ],
   "source": [
    "corr_matrix[\"median_house_value\"].sort_values(ascending=False)"
   ]
  },
  {
   "cell_type": "markdown",
   "id": "another-bidding",
   "metadata": {},
   "source": [
    "### Rather than total_rooms, the ration bedrooms_per_room is highely correlated with the house price.\n",
    "### That means houses having lesser bedrooms/room ratio tends to more expensive.\n",
    "### rooms_per_household is more correlated than total_rooms in the district that means larger houses, the more they expensive.\n"
   ]
  },
  {
   "cell_type": "markdown",
   "id": "smart-replication",
   "metadata": {},
   "source": [
    "# Prepare the dataset for ML Algorithm"
   ]
  },
  {
   "cell_type": "code",
   "execution_count": 48,
   "id": "compressed-indonesia",
   "metadata": {},
   "outputs": [],
   "source": [
    "# training dtaset\n",
    "housing_train_x=strat_train_set.drop(\"median_house_value\",axis=1)\n",
    "housing_train_y=strat_train_set[\"median_house_value\"].copy()\n",
    "\n",
    "# testing dtaset\n",
    "housing_test_x=strat_test_set.drop(\"median_house_value\",axis=1)\n",
    "housing_test_y=strat_test_set[\"median_house_value\"].copy()"
   ]
  },
  {
   "cell_type": "markdown",
   "id": "recovered-monitor",
   "metadata": {},
   "source": [
    "### 1. Data Cleaning\n",
    "* 1.1 (Handling Missing Values)\n",
    "    * There are three ways\n",
    "        * get rid of corresponding rows which have null values.\n",
    "        * get rid of whole attribute that contains null values.\n",
    "        * set the values to some value (zero,mean,median, etc..)\n",
    "                * by using fillna\n",
    "                * by using sklearn SimppleImputer\n",
    "* 1.2 (Handling Text and Categorical Attributes)\n",
    "        * OrdinalEncoder\n",
    "        * OneHotEncoder\n",
    "* 1.3 Custom Transformers\n",
    "* 1.4 Feature Scaling.\n"
   ]
  },
  {
   "cell_type": "code",
   "execution_count": 49,
   "id": "vietnamese-mexican",
   "metadata": {},
   "outputs": [],
   "source": [
    "# As we know \"total_bedrooms\" is having null values.\n",
    "# option-1: get rid of corresponding rows which have null values.\n",
    "# housing_train.dropna(subset=[\"total_bedrooms\"])\n",
    "# option-2: get rid of whole attribute that contains null values\n",
    "# housing_train.drop(\"total_bedrooms\",axis=1)\n",
    "# option-3.a: set the values to some value (zero,mean,median, etc..) fillna\n",
    "# median=housing_train[\"total_bedrooms\"].median()\n",
    "# housing_train[\"total_bedrooms\"].fillna(median,inplace=True)\n"
   ]
  },
  {
   "cell_type": "code",
   "execution_count": 50,
   "id": "helpful-beast",
   "metadata": {},
   "outputs": [
    {
     "name": "stdout",
     "output_type": "stream",
     "text": [
      "[-1.18510000e+02  3.42600000e+01  2.90000000e+01  2.11950000e+03\n",
      "  4.33000000e+02  1.16400000e+03  4.08000000e+02  3.54090000e+00\n",
      "  1.79500000e+05  5.23228423e+00  2.03031374e-01  2.81765270e+00]\n"
     ]
    }
   ],
   "source": [
    "# option-3.b: set the values to some value (zero,mean,median, etc..) Sklearn SimpleImputer\n",
    "\n",
    "from sklearn.impute import SimpleImputer\n",
    "\n",
    "imputer=SimpleImputer(strategy=\"median\")\n",
    "\n",
    "# please note Simpleimputer can be applied to onlyl numerical attributes. so we need to copy of the data without text features\n",
    "\n",
    "housing_num=housing_train.drop(\"ocean_proximity\",axis=1)\n",
    "imputer.fit(housing_num)\n",
    "\n",
    "print(imputer.statistics_)\n",
    "x=imputer.transform(housing_num) # it is an array\n",
    "\n",
    "# converting array to dataframe\n",
    "housing_tr=pd.DataFrame(x,columns=housing_num.columns,index=housing_num.index)\n",
    "\n"
   ]
  },
  {
   "cell_type": "code",
   "execution_count": 51,
   "id": "married-mouth",
   "metadata": {},
   "outputs": [
    {
     "data": {
      "text/html": [
       "<div>\n",
       "<style scoped>\n",
       "    .dataframe tbody tr th:only-of-type {\n",
       "        vertical-align: middle;\n",
       "    }\n",
       "\n",
       "    .dataframe tbody tr th {\n",
       "        vertical-align: top;\n",
       "    }\n",
       "\n",
       "    .dataframe thead th {\n",
       "        text-align: right;\n",
       "    }\n",
       "</style>\n",
       "<table border=\"1\" class=\"dataframe\">\n",
       "  <thead>\n",
       "    <tr style=\"text-align: right;\">\n",
       "      <th></th>\n",
       "      <th>longitude</th>\n",
       "      <th>latitude</th>\n",
       "      <th>housing_median_age</th>\n",
       "      <th>total_rooms</th>\n",
       "      <th>total_bedrooms</th>\n",
       "      <th>population</th>\n",
       "      <th>households</th>\n",
       "      <th>median_income</th>\n",
       "      <th>median_house_value</th>\n",
       "      <th>rooms_per_household</th>\n",
       "      <th>bedrooms_per_room</th>\n",
       "      <th>population_per_household</th>\n",
       "    </tr>\n",
       "  </thead>\n",
       "  <tbody>\n",
       "    <tr>\n",
       "      <th>17606</th>\n",
       "      <td>-121.89</td>\n",
       "      <td>37.29</td>\n",
       "      <td>38.0</td>\n",
       "      <td>1568.0</td>\n",
       "      <td>351.0</td>\n",
       "      <td>710.0</td>\n",
       "      <td>339.0</td>\n",
       "      <td>2.7042</td>\n",
       "      <td>286600.0</td>\n",
       "      <td>4.625369</td>\n",
       "      <td>0.223852</td>\n",
       "      <td>2.094395</td>\n",
       "    </tr>\n",
       "    <tr>\n",
       "      <th>18632</th>\n",
       "      <td>-121.93</td>\n",
       "      <td>37.05</td>\n",
       "      <td>14.0</td>\n",
       "      <td>679.0</td>\n",
       "      <td>108.0</td>\n",
       "      <td>306.0</td>\n",
       "      <td>113.0</td>\n",
       "      <td>6.4214</td>\n",
       "      <td>340600.0</td>\n",
       "      <td>6.008850</td>\n",
       "      <td>0.159057</td>\n",
       "      <td>2.707965</td>\n",
       "    </tr>\n",
       "    <tr>\n",
       "      <th>14650</th>\n",
       "      <td>-117.20</td>\n",
       "      <td>32.77</td>\n",
       "      <td>31.0</td>\n",
       "      <td>1952.0</td>\n",
       "      <td>471.0</td>\n",
       "      <td>936.0</td>\n",
       "      <td>462.0</td>\n",
       "      <td>2.8621</td>\n",
       "      <td>196900.0</td>\n",
       "      <td>4.225108</td>\n",
       "      <td>0.241291</td>\n",
       "      <td>2.025974</td>\n",
       "    </tr>\n",
       "    <tr>\n",
       "      <th>3230</th>\n",
       "      <td>-119.61</td>\n",
       "      <td>36.31</td>\n",
       "      <td>25.0</td>\n",
       "      <td>1847.0</td>\n",
       "      <td>371.0</td>\n",
       "      <td>1460.0</td>\n",
       "      <td>353.0</td>\n",
       "      <td>1.8839</td>\n",
       "      <td>46300.0</td>\n",
       "      <td>5.232295</td>\n",
       "      <td>0.200866</td>\n",
       "      <td>4.135977</td>\n",
       "    </tr>\n",
       "    <tr>\n",
       "      <th>3555</th>\n",
       "      <td>-118.59</td>\n",
       "      <td>34.23</td>\n",
       "      <td>17.0</td>\n",
       "      <td>6592.0</td>\n",
       "      <td>1525.0</td>\n",
       "      <td>4459.0</td>\n",
       "      <td>1463.0</td>\n",
       "      <td>3.0347</td>\n",
       "      <td>254500.0</td>\n",
       "      <td>4.505810</td>\n",
       "      <td>0.231341</td>\n",
       "      <td>3.047847</td>\n",
       "    </tr>\n",
       "  </tbody>\n",
       "</table>\n",
       "</div>"
      ],
      "text/plain": [
       "       longitude  latitude  housing_median_age  total_rooms  total_bedrooms  \\\n",
       "17606    -121.89     37.29                38.0       1568.0           351.0   \n",
       "18632    -121.93     37.05                14.0        679.0           108.0   \n",
       "14650    -117.20     32.77                31.0       1952.0           471.0   \n",
       "3230     -119.61     36.31                25.0       1847.0           371.0   \n",
       "3555     -118.59     34.23                17.0       6592.0          1525.0   \n",
       "\n",
       "       population  households  median_income  median_house_value  \\\n",
       "17606       710.0       339.0         2.7042            286600.0   \n",
       "18632       306.0       113.0         6.4214            340600.0   \n",
       "14650       936.0       462.0         2.8621            196900.0   \n",
       "3230       1460.0       353.0         1.8839             46300.0   \n",
       "3555       4459.0      1463.0         3.0347            254500.0   \n",
       "\n",
       "       rooms_per_household  bedrooms_per_room  population_per_household  \n",
       "17606             4.625369           0.223852                  2.094395  \n",
       "18632             6.008850           0.159057                  2.707965  \n",
       "14650             4.225108           0.241291                  2.025974  \n",
       "3230              5.232295           0.200866                  4.135977  \n",
       "3555              4.505810           0.231341                  3.047847  "
      ]
     },
     "execution_count": 51,
     "metadata": {},
     "output_type": "execute_result"
    }
   ],
   "source": [
    "housing_tr.head()"
   ]
  },
  {
   "cell_type": "code",
   "execution_count": 52,
   "id": "wireless-accounting",
   "metadata": {},
   "outputs": [
    {
     "data": {
      "text/plain": [
       "longitude                   0\n",
       "latitude                    0\n",
       "housing_median_age          0\n",
       "total_rooms                 0\n",
       "total_bedrooms              0\n",
       "population                  0\n",
       "households                  0\n",
       "median_income               0\n",
       "median_house_value          0\n",
       "rooms_per_household         0\n",
       "bedrooms_per_room           0\n",
       "population_per_household    0\n",
       "dtype: int64"
      ]
     },
     "execution_count": 52,
     "metadata": {},
     "output_type": "execute_result"
    }
   ],
   "source": [
    "# To check whether is there any null values or not\n",
    "housing_tr.isnull().sum()"
   ]
  },
  {
   "cell_type": "markdown",
   "id": "monthly-swedish",
   "metadata": {},
   "source": [
    "# Handling Text and Categorical Attributes"
   ]
  },
  {
   "cell_type": "code",
   "execution_count": 53,
   "id": "embedded-canvas",
   "metadata": {},
   "outputs": [],
   "source": [
    "housing_cat=housing_train[[\"ocean_proximity\"]]"
   ]
  },
  {
   "cell_type": "code",
   "execution_count": 54,
   "id": "intended-constraint",
   "metadata": {},
   "outputs": [
    {
     "data": {
      "text/html": [
       "<div>\n",
       "<style scoped>\n",
       "    .dataframe tbody tr th:only-of-type {\n",
       "        vertical-align: middle;\n",
       "    }\n",
       "\n",
       "    .dataframe tbody tr th {\n",
       "        vertical-align: top;\n",
       "    }\n",
       "\n",
       "    .dataframe thead th {\n",
       "        text-align: right;\n",
       "    }\n",
       "</style>\n",
       "<table border=\"1\" class=\"dataframe\">\n",
       "  <thead>\n",
       "    <tr style=\"text-align: right;\">\n",
       "      <th></th>\n",
       "      <th>ocean_proximity</th>\n",
       "    </tr>\n",
       "  </thead>\n",
       "  <tbody>\n",
       "    <tr>\n",
       "      <th>17606</th>\n",
       "      <td>&lt;1H OCEAN</td>\n",
       "    </tr>\n",
       "    <tr>\n",
       "      <th>18632</th>\n",
       "      <td>&lt;1H OCEAN</td>\n",
       "    </tr>\n",
       "    <tr>\n",
       "      <th>14650</th>\n",
       "      <td>NEAR OCEAN</td>\n",
       "    </tr>\n",
       "    <tr>\n",
       "      <th>3230</th>\n",
       "      <td>INLAND</td>\n",
       "    </tr>\n",
       "    <tr>\n",
       "      <th>3555</th>\n",
       "      <td>&lt;1H OCEAN</td>\n",
       "    </tr>\n",
       "  </tbody>\n",
       "</table>\n",
       "</div>"
      ],
      "text/plain": [
       "      ocean_proximity\n",
       "17606       <1H OCEAN\n",
       "18632       <1H OCEAN\n",
       "14650      NEAR OCEAN\n",
       "3230           INLAND\n",
       "3555        <1H OCEAN"
      ]
     },
     "execution_count": 54,
     "metadata": {},
     "output_type": "execute_result"
    }
   ],
   "source": [
    "housing_cat.head()"
   ]
  },
  {
   "cell_type": "code",
   "execution_count": 55,
   "id": "reverse-investment",
   "metadata": {},
   "outputs": [
    {
     "data": {
      "text/plain": [
       "(16512, 1)"
      ]
     },
     "execution_count": 55,
     "metadata": {},
     "output_type": "execute_result"
    }
   ],
   "source": [
    "housing_cat.shape"
   ]
  },
  {
   "cell_type": "code",
   "execution_count": 56,
   "id": "interested-benchmark",
   "metadata": {},
   "outputs": [],
   "source": [
    "# As most of ML models perform to work witht numbers.So let us convert this categorical from text to number.\n",
    "from sklearn.preprocessing import OrdinalEncoder\n",
    "ordinal_encoder=OrdinalEncoder()\n",
    "housing_cat_encoded=ordinal_encoder.fit_transform(housing_cat)\n"
   ]
  },
  {
   "cell_type": "code",
   "execution_count": 57,
   "id": "after-faith",
   "metadata": {},
   "outputs": [
    {
     "data": {
      "text/plain": [
       "[array(['<1H OCEAN', 'INLAND', 'ISLAND', 'NEAR BAY', 'NEAR OCEAN'],\n",
       "       dtype=object)]"
      ]
     },
     "execution_count": 57,
     "metadata": {},
     "output_type": "execute_result"
    }
   ],
   "source": [
    "ordinal_encoder.categories_"
   ]
  },
  {
   "cell_type": "code",
   "execution_count": 58,
   "id": "cosmetic-synthetic",
   "metadata": {},
   "outputs": [],
   "source": [
    "# housing_cat_encoded contains value from 0 to 4"
   ]
  },
  {
   "cell_type": "code",
   "execution_count": 59,
   "id": "narrow-newsletter",
   "metadata": {},
   "outputs": [
    {
     "data": {
      "text/plain": [
       "array([[0.],\n",
       "       [0.],\n",
       "       [4.],\n",
       "       [1.],\n",
       "       [0.],\n",
       "       [1.],\n",
       "       [0.],\n",
       "       [1.],\n",
       "       [0.],\n",
       "       [0.]])"
      ]
     },
     "execution_count": 59,
     "metadata": {},
     "output_type": "execute_result"
    }
   ],
   "source": [
    "housing_cat_encoded[:10]"
   ]
  },
  {
   "cell_type": "markdown",
   "id": "wired-tender",
   "metadata": {},
   "source": [
    "### OrdinalEncoder, represents in numerical form starting from 0 to 4 (five categories)\n",
    "### Issue with this representation, it seems nearby values are more similar that distance values.\n",
    "### Hence this technique is good for ordinal categorical features like (\"bad\",\"good\",\"average\",\"excellence\")\n",
    "## To fix this issue we will use one-hot encoding by creating dummy binary attributes"
   ]
  },
  {
   "cell_type": "code",
   "execution_count": 60,
   "id": "rising-pittsburgh",
   "metadata": {},
   "outputs": [],
   "source": [
    "from sklearn.preprocessing import OneHotEncoder"
   ]
  },
  {
   "cell_type": "code",
   "execution_count": 61,
   "id": "mineral-exploration",
   "metadata": {},
   "outputs": [],
   "source": [
    "cat_encoder=OneHotEncoder()\n",
    "housing_cat_1hot=cat_encoder.fit_transform(housing_cat)"
   ]
  },
  {
   "cell_type": "code",
   "execution_count": 62,
   "id": "relative-celebration",
   "metadata": {},
   "outputs": [
    {
     "data": {
      "text/plain": [
       "<16512x5 sparse matrix of type '<class 'numpy.float64'>'\n",
       "\twith 16512 stored elements in Compressed Sparse Row format>"
      ]
     },
     "execution_count": 62,
     "metadata": {},
     "output_type": "execute_result"
    }
   ],
   "source": [
    "housing_cat_1hot"
   ]
  },
  {
   "cell_type": "code",
   "execution_count": 63,
   "id": "numeric-prince",
   "metadata": {},
   "outputs": [
    {
     "data": {
      "text/plain": [
       "array([[1., 0., 0., 0., 0.],\n",
       "       [1., 0., 0., 0., 0.],\n",
       "       [0., 0., 0., 0., 1.],\n",
       "       ...,\n",
       "       [0., 1., 0., 0., 0.],\n",
       "       [1., 0., 0., 0., 0.],\n",
       "       [0., 0., 0., 1., 0.]])"
      ]
     },
     "execution_count": 63,
     "metadata": {},
     "output_type": "execute_result"
    }
   ],
   "source": [
    "housing_cat_1hot.toarray()"
   ]
  },
  {
   "cell_type": "code",
   "execution_count": 64,
   "id": "cooperative-decline",
   "metadata": {},
   "outputs": [
    {
     "data": {
      "text/plain": [
       "[array(['<1H OCEAN', 'INLAND', 'ISLAND', 'NEAR BAY', 'NEAR OCEAN'],\n",
       "       dtype=object)]"
      ]
     },
     "execution_count": 64,
     "metadata": {},
     "output_type": "execute_result"
    }
   ],
   "source": [
    "cat_encoder.categories_"
   ]
  },
  {
   "cell_type": "markdown",
   "id": "korean-cricket",
   "metadata": {},
   "source": [
    "# Customer Transformers\n",
    "    * What we have learn to transform the attributes, let us create a custom function"
   ]
  },
  {
   "cell_type": "code",
   "execution_count": 65,
   "id": "national-variable",
   "metadata": {},
   "outputs": [],
   "source": [
    "from sklearn.base import BaseEstimator, TransformerMixin"
   ]
  },
  {
   "cell_type": "code",
   "execution_count": 66,
   "id": "random-contribution",
   "metadata": {},
   "outputs": [
    {
     "data": {
      "text/plain": [
       "['longitude',\n",
       " 'latitude',\n",
       " 'housing_median_age',\n",
       " 'total_rooms',\n",
       " 'total_bedrooms',\n",
       " 'population',\n",
       " 'households',\n",
       " 'median_income',\n",
       " 'median_house_value',\n",
       " 'ocean_proximity',\n",
       " 'income_cat']"
      ]
     },
     "execution_count": 66,
     "metadata": {},
     "output_type": "execute_result"
    }
   ],
   "source": [
    "list(housing)"
   ]
  },
  {
   "cell_type": "code",
   "execution_count": 67,
   "id": "decreased-jordan",
   "metadata": {},
   "outputs": [],
   "source": [
    "rooms_ix,bedrooms_ix,population_ix,households_ix=3,4,5,6 # setting column indexes\n",
    "\n",
    "class CombineattributeAdder(BaseEstimator,TransformerMixin):\n",
    "    def __init__(self,add_bedrooms_per_room=True): \n",
    "        # by default it will be true,(we can use this hyperparameter to see whether adding this attributes helps our ML model or not)\n",
    "        self.add_bedrooms_per_room=add_bedrooms_per_room\n",
    "    def fit(self,x,y=None):\n",
    "        return self\n",
    "    def transform(self,x,y=None):\n",
    "        rooms_per_household=x[:,rooms_ix]/x[:,households_ix]\n",
    "        population_per_household=x[:,population_ix]/x[:,households_ix]\n",
    "        if self.add_bedrooms_per_room == True:\n",
    "            bedrooms_per_room=x[:,bedrooms_ix]/x[:,rooms_ix]\n",
    "            return np.c_[x,rooms_per_household,population_per_household,bedrooms_per_room]\n",
    "        #c_ in numpy does horizental concatenation\n",
    "        else:\n",
    "            return np.c_[x,rooms_per_household,population_per_household]\n",
    "attr_adder=CombineattributeAdder(add_bedrooms_per_room=False)\n",
    "housing_extra_attribute=attr_adder.transform(housing.values)\n",
    "        \n",
    "#attr_adder=CombineattributeAdder(add_bedrooms_per_room=True)\n",
    "#housing_extra_attribute=attr_adder.transform(housing.values)      "
   ]
  },
  {
   "cell_type": "code",
   "execution_count": 68,
   "id": "heard-struggle",
   "metadata": {},
   "outputs": [
    {
     "name": "stdout",
     "output_type": "stream",
     "text": [
      "(20640, 11) (20640, 13)\n"
     ]
    }
   ],
   "source": [
    "print(housing.shape,housing_extra_attribute.shape)"
   ]
  },
  {
   "cell_type": "markdown",
   "id": "clinical-conviction",
   "metadata": {},
   "source": [
    "# Feature Scalling"
   ]
  },
  {
   "cell_type": "markdown",
   "id": "trying-snowboard",
   "metadata": {},
   "source": [
    "### ML algorithms not perform well if the inpput numerical attributes are not in one scale or they are in different scales.\n",
    "### In our dataset we have observed that , total number of romms ranges from 6 to 39k while income ranges from 0 to 15\n",
    "### Scaling of target value is not required.\n",
    "\n",
    "#### There are two type of scalling:\n",
    "                * a. MinMaxScaler (rescaled all values and normalized between o and 1)\n",
    "                * b. standardization\n",
    "    . MinMaxScaler: subtracting the min value and dividing by the max minus min.( give value between o and 1)\n",
    "    . Standardization: first it subtracts the mean value and then divies by standard deviation so the distribution \n",
    "    has unit variance and will always have zero mean.\n",
    "        "
   ]
  },
  {
   "cell_type": "markdown",
   "id": "executed-gambling",
   "metadata": {},
   "source": [
    "# Transformation Pipeline"
   ]
  },
  {
   "cell_type": "markdown",
   "id": "crucial-vertex",
   "metadata": {},
   "source": [
    "### So we have handled numerical attributes and categorical attributes seprately.\n",
    "### it is better to have single transformer which can able to handle both, for this puprpose we can use ColumnTransformer of SKLEARN.\n",
    "### LET US CREATE A PIPELINE FOR NUM ATTRIBUTES TO TRANSFER THE FOLLWOING ACTIVITES.\n",
    "    * SIMPLEIMPUTER\n",
    "    * COMBINEATTRIBUTEADDER (CUSTOMIZED ONE)\n",
    "    * STANDARD SCALLER.\n",
    "### THEN WE WILL USE COLUMNTRANSFORMER TO HANDLE BOTH NUM AND CATEGORICAL FIELDS (ONEHOT ENCODING)"
   ]
  },
  {
   "cell_type": "code",
   "execution_count": 69,
   "id": "durable-triple",
   "metadata": {},
   "outputs": [],
   "source": [
    "from sklearn.pipeline import Pipeline\n",
    "from sklearn.preprocessing import StandardScaler\n",
    "\n",
    "num_pipeline=Pipeline([\n",
    "    ('imputer',SimpleImputer(strategy='median')),\n",
    "    ('attribute_adder',CombineattributeAdder(add_bedrooms_per_room=True)),\n",
    "    ('std_scaler',StandardScaler()),\n",
    "])"
   ]
  },
  {
   "cell_type": "code",
   "execution_count": 70,
   "id": "written-lafayette",
   "metadata": {},
   "outputs": [],
   "source": [
    "from sklearn.compose import ColumnTransformer\n",
    "housing_num=housing_train_x.drop(\"ocean_proximity\",axis=1)\n",
    "num_attributes=list(housing_num)\n",
    "cat_attributes=[\"ocean_proximity\"]\n",
    "\n",
    "full_pipeline= ColumnTransformer([\n",
    "    (\"num\",num_pipeline,num_attributes),\n",
    "    (\"cat\",OneHotEncoder(),cat_attributes),\n",
    "])"
   ]
  },
  {
   "cell_type": "code",
   "execution_count": 71,
   "id": "victorian-commission",
   "metadata": {},
   "outputs": [],
   "source": [
    "housing_prepared=full_pipeline.fit_transform(housing_train_x)"
   ]
  },
  {
   "cell_type": "code",
   "execution_count": 72,
   "id": "partial-checkout",
   "metadata": {},
   "outputs": [
    {
     "data": {
      "text/plain": [
       "(16512, 9)"
      ]
     },
     "execution_count": 72,
     "metadata": {},
     "output_type": "execute_result"
    }
   ],
   "source": [
    "housing_train_x.shape"
   ]
  },
  {
   "cell_type": "code",
   "execution_count": 73,
   "id": "relative-shanghai",
   "metadata": {},
   "outputs": [
    {
     "data": {
      "text/plain": [
       "(16512, 16)"
      ]
     },
     "execution_count": 73,
     "metadata": {},
     "output_type": "execute_result"
    }
   ],
   "source": [
    "housing_prepared.shape"
   ]
  },
  {
   "cell_type": "code",
   "execution_count": 74,
   "id": "monthly-barrier",
   "metadata": {},
   "outputs": [
    {
     "data": {
      "text/plain": [
       "['longitude',\n",
       " 'latitude',\n",
       " 'housing_median_age',\n",
       " 'total_rooms',\n",
       " 'total_bedrooms',\n",
       " 'population',\n",
       " 'households',\n",
       " 'median_income']"
      ]
     },
     "execution_count": 74,
     "metadata": {},
     "output_type": "execute_result"
    }
   ],
   "source": [
    "num_attributes"
   ]
  },
  {
   "cell_type": "code",
   "execution_count": 75,
   "id": "technological-eugene",
   "metadata": {},
   "outputs": [
    {
     "name": "stdout",
     "output_type": "stream",
     "text": [
      "(16512, 16) (16512,)\n"
     ]
    }
   ],
   "source": [
    "print(housing_prepared.shape,housing_train_y.shape)"
   ]
  },
  {
   "cell_type": "markdown",
   "id": "executed-fellowship",
   "metadata": {},
   "source": [
    "# Selecting and Training the Model"
   ]
  },
  {
   "cell_type": "markdown",
   "id": "premier-groove",
   "metadata": {},
   "source": [
    "### Let us try on LinearRegression and find the predictions and measure the losses."
   ]
  },
  {
   "cell_type": "markdown",
   "id": "exotic-philippines",
   "metadata": {},
   "source": [
    "#### LinearRegression"
   ]
  },
  {
   "cell_type": "code",
   "execution_count": 76,
   "id": "informal-sympathy",
   "metadata": {},
   "outputs": [
    {
     "data": {
      "text/plain": [
       "LinearRegression()"
      ]
     },
     "execution_count": 76,
     "metadata": {},
     "output_type": "execute_result"
    }
   ],
   "source": [
    "from sklearn.linear_model import LinearRegression\n",
    "\n",
    "lin_reg=LinearRegression()\n",
    "lin_reg.fit(housing_prepared,housing_train_y)"
   ]
  },
  {
   "cell_type": "code",
   "execution_count": 77,
   "id": "bibliographic-click",
   "metadata": {},
   "outputs": [
    {
     "name": "stdout",
     "output_type": "stream",
     "text": [
      "predictions [210644.60459286 317768.80697211 210956.43331178  59218.98886849\n",
      " 189747.55849879]\n",
      "actuals [286600.0, 340600.0, 196900.0, 46300.0, 254500.0]\n"
     ]
    }
   ],
   "source": [
    "# Let us try to predict on some instances of train dataset\n",
    "some_data=housing_train_x.iloc[:5]\n",
    "some_labels=housing_train_y.iloc[:5]\n",
    "some_data_prepared=full_pipeline.transform(some_data)\n",
    "print(\"predictions\",lin_reg.predict(some_data_prepared))\n",
    "print(\"actuals\",list(some_labels))"
   ]
  },
  {
   "cell_type": "code",
   "execution_count": 78,
   "id": "behind-tourism",
   "metadata": {},
   "outputs": [
    {
     "data": {
      "text/plain": [
       "68628.19819848923"
      ]
     },
     "execution_count": 78,
     "metadata": {},
     "output_type": "execute_result"
    }
   ],
   "source": [
    "# Let us calculate RMSE\n",
    "\n",
    "from sklearn.metrics import mean_squared_error\n",
    "housing_train_predictions_lin=lin_reg.predict(housing_prepared)\n",
    "lin_mse=mean_squared_error(housing_train_y,housing_train_predictions_lin)\n",
    "lin_rmse=np.sqrt(lin_mse)\n",
    "lin_rmse"
   ]
  },
  {
   "cell_type": "markdown",
   "id": "junior-shadow",
   "metadata": {},
   "source": [
    "### Linear Regressor is not a good prediciton in training set that means model is underfitting.\n",
    "### This indicates that the features are not sufficient for good predictions and the model we have used is not a powerful one\n"
   ]
  },
  {
   "cell_type": "markdown",
   "id": "patent-developer",
   "metadata": {},
   "source": [
    "#### DicisionTree"
   ]
  },
  {
   "cell_type": "code",
   "execution_count": 79,
   "id": "studied-removal",
   "metadata": {},
   "outputs": [
    {
     "data": {
      "text/plain": [
       "0.0"
      ]
     },
     "execution_count": 79,
     "metadata": {},
     "output_type": "execute_result"
    }
   ],
   "source": [
    "from sklearn.tree import DecisionTreeRegressor\n",
    "tree_reg=DecisionTreeRegressor()\n",
    "tree_reg.fit(housing_prepared,housing_train_y)\n",
    "\n",
    "housing_train_predictions_tree=tree_reg.predict(housing_prepared)\n",
    "tree_mse=mean_squared_error(housing_train_y,housing_train_predictions_tree)\n",
    "tree_rmse=np.sqrt(tree_mse)\n",
    "tree_rmse"
   ]
  },
  {
   "cell_type": "markdown",
   "id": "inside-feature",
   "metadata": {},
   "source": [
    "### In Decision Tree is n, there is no error.\n",
    "### This indicates that it's badly overfitted."
   ]
  },
  {
   "cell_type": "markdown",
   "id": "crucial-marsh",
   "metadata": {},
   "source": [
    "# Let us use Cross validation to evaluate both models.\n",
    "    * if we define cv=10, then it randomly splits the training set into 10 distint folds/subsets.\n",
    "    * then it trains and evalutes 10 times.\n",
    "    * by picking a different fold for validation and 9 other folds for training\n",
    "    * it will give 10 evaluation scores"
   ]
  },
  {
   "cell_type": "code",
   "execution_count": 80,
   "id": "prescription-brown",
   "metadata": {},
   "outputs": [],
   "source": [
    "from sklearn.model_selection import cross_val_score\n",
    "scores=cross_val_score(tree_reg,housing_prepared,housing_train_y,\n",
    "                       scoring=\"neg_mean_squared_error\",cv=10)\n",
    "tree_rmse_score=np.sqrt(-scores)"
   ]
  },
  {
   "cell_type": "code",
   "execution_count": 81,
   "id": "pending-works",
   "metadata": {},
   "outputs": [
    {
     "data": {
      "text/plain": [
       "array([67955.67706465, 67430.40603671, 70477.53667006, 69232.85485984,\n",
       "       70458.03769792, 75551.70247334, 71929.3323942 , 71233.44113433,\n",
       "       75267.10809131, 69921.08748026])"
      ]
     },
     "execution_count": 81,
     "metadata": {},
     "output_type": "execute_result"
    }
   ],
   "source": [
    "tree_rmse_score"
   ]
  },
  {
   "cell_type": "code",
   "execution_count": 82,
   "id": "stretch-heart",
   "metadata": {},
   "outputs": [],
   "source": [
    "def display_score(scores):\n",
    "    print(\"Scores\", scores)\n",
    "    print(\"Mean\",scores.mean())\n",
    "    print(\"Standard Deviation\",scores.std())"
   ]
  },
  {
   "cell_type": "code",
   "execution_count": 83,
   "id": "piano-sheffield",
   "metadata": {},
   "outputs": [
    {
     "name": "stdout",
     "output_type": "stream",
     "text": [
      "Scores [67955.67706465 67430.40603671 70477.53667006 69232.85485984\n",
      " 70458.03769792 75551.70247334 71929.3323942  71233.44113433\n",
      " 75267.10809131 69921.08748026]\n",
      "Mean 70945.7183902605\n",
      "Standard Deviation 2582.215014989461\n"
     ]
    }
   ],
   "source": [
    "display_score(tree_rmse_score)"
   ]
  },
  {
   "cell_type": "code",
   "execution_count": 84,
   "id": "satellite-orbit",
   "metadata": {},
   "outputs": [
    {
     "name": "stdout",
     "output_type": "stream",
     "text": [
      "Scores [66782.73843989 66960.118071   70347.95244419 74739.57052552\n",
      " 68031.13388938 71193.84183426 64969.63056405 68281.61137997\n",
      " 71552.91566558 67665.10082067]\n",
      "Mean 69052.46136345083\n",
      "Standard Deviation 2731.674001798348\n"
     ]
    }
   ],
   "source": [
    "line_score=cross_val_score(lin_reg,housing_prepared,housing_train_y,\n",
    "                       scoring=\"neg_mean_squared_error\",cv=10)\n",
    "line_rmse_score=np.sqrt(-line_score)\n",
    "display_score(line_rmse_score)"
   ]
  },
  {
   "cell_type": "markdown",
   "id": "derived-glass",
   "metadata": {},
   "source": [
    "# Findings\n",
    "### The Decision Tree is overfitting so badly that it performs worse than Linear Regression"
   ]
  },
  {
   "cell_type": "markdown",
   "id": "detailed-table",
   "metadata": {},
   "source": [
    "# Let us try another model the last one -RandomForestRegression"
   ]
  },
  {
   "cell_type": "code",
   "execution_count": 89,
   "id": "protected-conspiracy",
   "metadata": {},
   "outputs": [
    {
     "name": "stdout",
     "output_type": "stream",
     "text": [
      "Scores 18718.08612945796\n",
      "Mean 18718.08612945796\n",
      "Standard Deviation 0.0\n"
     ]
    }
   ],
   "source": [
    "from sklearn.ensemble import RandomForestRegressor\n",
    "forest_reg=RandomForestRegressor()\n",
    "forest_reg.fit(housing_prepared,housing_train_y)\n",
    "\n",
    "housing_train_predictions_forest=forest_reg.predict(housing_prepared)\n",
    "forest_mse=mean_squared_error(housing_train_y,housing_train_predictions_forest)\n",
    "forest_rmse=np.sqrt(forest_mse)\n",
    "forest_rmse\n",
    "\n"
   ]
  },
  {
   "cell_type": "code",
   "execution_count": null,
   "id": "floppy-occasion",
   "metadata": {},
   "outputs": [],
   "source": [
    "# RandomForest with Cross Validation."
   ]
  },
  {
   "cell_type": "code",
   "execution_count": 90,
   "id": "fewer-margin",
   "metadata": {},
   "outputs": [
    {
     "name": "stdout",
     "output_type": "stream",
     "text": [
      "Scores [49766.20418197 47199.38031706 49963.39117928 52247.75117513\n",
      " 49591.93278203 53757.29543    48928.83207739 47858.57020338\n",
      " 53066.45251931 50090.01145202]\n",
      "Mean 50246.98213175725\n",
      "Standard Deviation 2043.7709783538041\n"
     ]
    }
   ],
   "source": [
    "forest_scores=cross_val_score(forest_reg,housing_prepared,housing_train_y,\n",
    "                       scoring=\"neg_mean_squared_error\",cv=10)\n",
    "forest_rmse_score=np.sqrt(-forest_scores)\n",
    "display_score(forest_rmse_score)"
   ]
  },
  {
   "cell_type": "markdown",
   "id": "based-psychology",
   "metadata": {},
   "source": [
    "### It has been observed that with CV, Random Forest peforms very well.\n",
    "### However noticed that the train score 18718 is much lesser than the validation score 50246.\n",
    "### This means the model is still overfitting.\n",
    "### So we need to simplify the model by using regularization technique.\n"
   ]
  },
  {
   "cell_type": "markdown",
   "id": "nearby-vegetation",
   "metadata": {},
   "source": [
    "# Fine-Tune the MODEL"
   ]
  },
  {
   "cell_type": "markdown",
   "id": "noticed-timothy",
   "metadata": {},
   "source": [
    "### Grid Search"
   ]
  },
  {
   "cell_type": "code",
   "execution_count": 93,
   "id": "successful-mileage",
   "metadata": {},
   "outputs": [],
   "source": [
    "from sklearn.model_selection import GridSearchCV"
   ]
  },
  {
   "cell_type": "code",
   "execution_count": 95,
   "id": "suspended-photograph",
   "metadata": {},
   "outputs": [
    {
     "data": {
      "text/plain": [
       "GridSearchCV(cv=5, estimator=RandomForestRegressor(),\n",
       "             param_grid=[{'max_features': [2, 4, 6, 8],\n",
       "                          'n_estimators': [3, 10, 30]},\n",
       "                         {'bootstrap': [False], 'max_features': [2, 3, 4],\n",
       "                          'n_estimators': [3, 10]}],\n",
       "             return_train_score=True, scoring='neg_mean_squared_error')"
      ]
     },
     "execution_count": 95,
     "metadata": {},
     "output_type": "execute_result"
    }
   ],
   "source": [
    "param_grid=[\n",
    "    {'n_estimators':[3,10,30],\n",
    "    'max_features':[2,4,6,8]},\n",
    "    {'bootstrap':[False],\n",
    "     'n_estimators':[3,10],\n",
    "     'max_features':[2,3,4]}\n",
    "]\n",
    "\n",
    "forest_reg=RandomForestRegressor()\n",
    "grid_search=GridSearchCV(forest_reg,param_grid,cv=5,scoring='neg_mean_squared_error',\n",
    "                        return_train_score=True)\n",
    "\n",
    "grid_search.fit(housing_prepared,housing_train_y)"
   ]
  },
  {
   "cell_type": "markdown",
   "id": "lesbian-columbia",
   "metadata": {},
   "source": [
    "### in first evaluation it will run for 3*4=12 combinations of hyper parameters\n",
    "### in second evaluation it will run for 2*3=6 combinations but this tyme bootstrap= False (bydefault it was true)\n",
    "### So in total grid_search model will run with a combination of 12+6=18 and it will train for 5 times (cv=5)\n",
    "### so total there will be 18*5=90 rounds of training."
   ]
  },
  {
   "cell_type": "code",
   "execution_count": 96,
   "id": "industrial-resident",
   "metadata": {},
   "outputs": [
    {
     "data": {
      "text/plain": [
       "{'max_features': 8, 'n_estimators': 30}"
      ]
     },
     "execution_count": 96,
     "metadata": {},
     "output_type": "execute_result"
    }
   ],
   "source": [
    "grid_search.best_params_"
   ]
  },
  {
   "cell_type": "code",
   "execution_count": 97,
   "id": "collected-conditions",
   "metadata": {},
   "outputs": [
    {
     "data": {
      "text/plain": [
       "RandomForestRegressor(max_features=8, n_estimators=30)"
      ]
     },
     "execution_count": 97,
     "metadata": {},
     "output_type": "execute_result"
    }
   ],
   "source": [
    "grid_search.best_estimator_"
   ]
  },
  {
   "cell_type": "code",
   "execution_count": 98,
   "id": "incoming-cloud",
   "metadata": {},
   "outputs": [
    {
     "data": {
      "text/plain": [
       "{'mean_fit_time': array([0.07755814, 0.25284219, 0.69240141, 0.11293783, 0.36118302,\n",
       "        1.08458014, 0.15430622, 0.50170679, 1.47875423, 0.19068961,\n",
       "        0.63204474, 1.87992043, 0.10834064, 0.35918937, 0.14331241,\n",
       "        0.47592635, 0.17550201, 0.57527256]),\n",
       " 'std_fit_time': array([0.01037757, 0.01604847, 0.00470645, 0.00433969, 0.00772007,\n",
       "        0.01395037, 0.00839625, 0.00894354, 0.01672996, 0.00353672,\n",
       "        0.00615435, 0.0208651 , 0.00264313, 0.00431213, 0.00205119,\n",
       "        0.0086206 , 0.00393364, 0.00699954]),\n",
       " 'mean_score_time': array([0.00439835, 0.01219802, 0.03217511, 0.00419855, 0.01119514,\n",
       "        0.03158717, 0.00440292, 0.01119833, 0.03138385, 0.00419841,\n",
       "        0.01139426, 0.03197856, 0.00499825, 0.0137979 , 0.00480232,\n",
       "        0.01319342, 0.00480227, 0.01279449]),\n",
       " 'std_score_time': array([0.00079966, 0.00193805, 0.00040431, 0.00039971, 0.00039938,\n",
       "        0.00079662, 0.00048707, 0.00040648, 0.00048951, 0.00039966,\n",
       "        0.00049008, 0.00089488, 0.00063241, 0.000402  , 0.00040114,\n",
       "        0.00075343, 0.00040185, 0.00040007]),\n",
       " 'param_max_features': masked_array(data=[2, 2, 2, 4, 4, 4, 6, 6, 6, 8, 8, 8, 2, 2, 3, 3, 4, 4],\n",
       "              mask=[False, False, False, False, False, False, False, False,\n",
       "                    False, False, False, False, False, False, False, False,\n",
       "                    False, False],\n",
       "        fill_value='?',\n",
       "             dtype=object),\n",
       " 'param_n_estimators': masked_array(data=[3, 10, 30, 3, 10, 30, 3, 10, 30, 3, 10, 30, 3, 10, 3,\n",
       "                    10, 3, 10],\n",
       "              mask=[False, False, False, False, False, False, False, False,\n",
       "                    False, False, False, False, False, False, False, False,\n",
       "                    False, False],\n",
       "        fill_value='?',\n",
       "             dtype=object),\n",
       " 'param_bootstrap': masked_array(data=[--, --, --, --, --, --, --, --, --, --, --, --, False,\n",
       "                    False, False, False, False, False],\n",
       "              mask=[ True,  True,  True,  True,  True,  True,  True,  True,\n",
       "                     True,  True,  True,  True, False, False, False, False,\n",
       "                    False, False],\n",
       "        fill_value='?',\n",
       "             dtype=object),\n",
       " 'params': [{'max_features': 2, 'n_estimators': 3},\n",
       "  {'max_features': 2, 'n_estimators': 10},\n",
       "  {'max_features': 2, 'n_estimators': 30},\n",
       "  {'max_features': 4, 'n_estimators': 3},\n",
       "  {'max_features': 4, 'n_estimators': 10},\n",
       "  {'max_features': 4, 'n_estimators': 30},\n",
       "  {'max_features': 6, 'n_estimators': 3},\n",
       "  {'max_features': 6, 'n_estimators': 10},\n",
       "  {'max_features': 6, 'n_estimators': 30},\n",
       "  {'max_features': 8, 'n_estimators': 3},\n",
       "  {'max_features': 8, 'n_estimators': 10},\n",
       "  {'max_features': 8, 'n_estimators': 30},\n",
       "  {'bootstrap': False, 'max_features': 2, 'n_estimators': 3},\n",
       "  {'bootstrap': False, 'max_features': 2, 'n_estimators': 10},\n",
       "  {'bootstrap': False, 'max_features': 3, 'n_estimators': 3},\n",
       "  {'bootstrap': False, 'max_features': 3, 'n_estimators': 10},\n",
       "  {'bootstrap': False, 'max_features': 4, 'n_estimators': 3},\n",
       "  {'bootstrap': False, 'max_features': 4, 'n_estimators': 10}],\n",
       " 'split0_test_score': array([-4.02742178e+09, -2.86791037e+09, -2.63441234e+09, -3.46313126e+09,\n",
       "        -2.56840413e+09, -2.35565529e+09, -3.16248177e+09, -2.59909095e+09,\n",
       "        -2.35977138e+09, -3.36060338e+09, -2.44043544e+09, -2.38936813e+09,\n",
       "        -4.05040223e+09, -2.75056401e+09, -3.21389234e+09, -2.74006188e+09,\n",
       "        -3.20044076e+09, -2.49481929e+09]),\n",
       " 'split1_test_score': array([-4.57657874e+09, -3.34623624e+09, -2.87991280e+09, -3.71134063e+09,\n",
       "        -2.80428230e+09, -2.63092147e+09, -3.72379664e+09, -2.91013897e+09,\n",
       "        -2.53892490e+09, -3.54953129e+09, -2.74480611e+09, -2.55011916e+09,\n",
       "        -3.72443724e+09, -3.03682979e+09, -3.84338119e+09, -2.70355533e+09,\n",
       "        -3.52614292e+09, -2.68019931e+09]),\n",
       " 'split2_test_score': array([-4.13570537e+09, -3.09474285e+09, -2.89668452e+09, -3.94643530e+09,\n",
       "        -2.88713734e+09, -2.70279553e+09, -3.67605498e+09, -2.89387103e+09,\n",
       "        -2.63403536e+09, -3.68298518e+09, -2.81658266e+09, -2.58252470e+09,\n",
       "        -3.80283198e+09, -3.04818028e+09, -3.73164572e+09, -3.00612181e+09,\n",
       "        -3.50787821e+09, -2.82528961e+09]),\n",
       " 'split3_test_score': array([-3.99672090e+09, -3.00059393e+09, -2.70673251e+09, -3.61807522e+09,\n",
       "        -2.63092422e+09, -2.38305656e+09, -3.39978914e+09, -2.63764042e+09,\n",
       "        -2.33616727e+09, -3.43336914e+09, -2.53808424e+09, -2.32640051e+09,\n",
       "        -3.67372552e+09, -2.88646681e+09, -3.44777227e+09, -2.54756562e+09,\n",
       "        -3.41168231e+09, -2.53828809e+09]),\n",
       " 'split4_test_score': array([-4.31010843e+09, -3.29544787e+09, -3.00834267e+09, -3.68421358e+09,\n",
       "        -2.88598816e+09, -2.63884069e+09, -3.83214310e+09, -2.95923773e+09,\n",
       "        -2.64382442e+09, -3.41651207e+09, -2.72178796e+09, -2.61921201e+09,\n",
       "        -3.90142698e+09, -2.95501484e+09, -3.64989535e+09, -2.85760197e+09,\n",
       "        -3.63617765e+09, -2.77080303e+09]),\n",
       " 'mean_test_score': array([-4.20930704e+09, -3.12098625e+09, -2.82521697e+09, -3.68463920e+09,\n",
       "        -2.75534723e+09, -2.54225391e+09, -3.55885313e+09, -2.79999582e+09,\n",
       "        -2.50254467e+09, -3.48860021e+09, -2.65233928e+09, -2.49352490e+09,\n",
       "        -3.83056479e+09, -2.93541115e+09, -3.57731737e+09, -2.77098132e+09,\n",
       "        -3.45646437e+09, -2.66187987e+09]),\n",
       " 'std_test_score': array([2.13888635e+08, 1.79111608e+08, 1.35705004e+08, 1.56682403e+08,\n",
       "        1.32105363e+08, 1.43615736e+08, 2.44148175e+08, 1.50348992e+08,\n",
       "        1.31635059e+08, 1.15003019e+08, 1.40218811e+08, 1.14630118e+08,\n",
       "        1.34149672e+08, 1.09499712e+08, 2.23040108e+08, 1.53760229e+08,\n",
       "        1.46525676e+08, 1.28130220e+08]),\n",
       " 'rank_test_score': array([18, 11,  9, 16,  6,  3, 14,  8,  2, 13,  4,  1, 17, 10, 15,  7, 12,\n",
       "         5]),\n",
       " 'split0_train_score': array([-1.14900504e+09, -5.82004259e+08, -4.35794817e+08, -9.72505276e+08,\n",
       "        -5.29977181e+08, -3.99814545e+08, -9.55071278e+08, -5.25303141e+08,\n",
       "        -3.97539930e+08, -9.04521122e+08, -4.90653900e+08, -3.91032020e+08,\n",
       "        -0.00000000e+00, -0.00000000e+00, -0.00000000e+00, -0.00000000e+00,\n",
       "        -0.00000000e+00, -0.00000000e+00]),\n",
       " 'split1_train_score': array([-1.09489693e+09, -5.78634488e+08, -4.18091495e+08, -9.88364768e+08,\n",
       "        -5.22336888e+08, -3.94090523e+08, -9.44757652e+08, -5.12375677e+08,\n",
       "        -3.78691214e+08, -8.88683255e+08, -4.90434789e+08, -3.80338428e+08,\n",
       "        -2.49367014e+04, -0.00000000e+00, -0.00000000e+00, -0.00000000e+00,\n",
       "        -0.00000000e+00, -0.00000000e+00]),\n",
       " 'split2_train_score': array([-1.08401521e+09, -5.47386662e+08, -4.25984221e+08, -9.57656470e+08,\n",
       "        -5.03199572e+08, -3.87341601e+08, -9.73041226e+08, -4.94766206e+08,\n",
       "        -3.87761317e+08, -9.18098880e+08, -4.93140633e+08, -3.71322769e+08,\n",
       "        -0.00000000e+00, -0.00000000e+00, -0.00000000e+00, -0.00000000e+00,\n",
       "        -0.00000000e+00, -0.00000000e+00]),\n",
       " 'split3_train_score': array([-1.08378960e+09, -5.94626989e+08, -4.38685158e+08, -9.63704364e+08,\n",
       "        -5.22299141e+08, -3.94563795e+08, -9.74939739e+08, -5.23293884e+08,\n",
       "        -3.88885236e+08, -9.03628827e+08, -5.04521441e+08, -3.86940046e+08,\n",
       "        -0.00000000e+00, -4.37547313e+00, -0.00000000e+00, -3.78501136e-01,\n",
       "        -0.00000000e+00, -0.00000000e+00]),\n",
       " 'split4_train_score': array([-1.11912916e+09, -5.84312304e+08, -4.31600471e+08, -9.20818232e+08,\n",
       "        -5.35952454e+08, -3.89617587e+08, -9.44138296e+08, -5.15366451e+08,\n",
       "        -3.69876092e+08, -8.74416496e+08, -5.02927250e+08, -3.80982338e+08,\n",
       "        -0.00000000e+00, -0.00000000e+00, -0.00000000e+00, -0.00000000e+00,\n",
       "        -0.00000000e+00, -0.00000000e+00]),\n",
       " 'mean_train_score': array([-1.10616719e+09, -5.77392940e+08, -4.30031233e+08, -9.60609822e+08,\n",
       "        -5.22753047e+08, -3.93085610e+08, -9.58389638e+08, -5.14221072e+08,\n",
       "        -3.84550758e+08, -8.97869716e+08, -4.96335602e+08, -3.82123120e+08,\n",
       "        -4.98734028e+03, -8.75094625e-01,  0.00000000e+00, -7.57002271e-02,\n",
       "         0.00000000e+00,  0.00000000e+00]),\n",
       " 'std_train_score': array([2.49863142e+07, 1.59252784e+07, 7.34176386e+06, 2.24210079e+07,\n",
       "        1.10374821e+07, 4.32421725e+06, 1.33305528e+07, 1.08474638e+07,\n",
       "        9.46038125e+06, 1.49737919e+07, 6.12808187e+06, 6.68887680e+06,\n",
       "        9.97468056e+03, 1.75018925e+00, 0.00000000e+00, 1.51400454e-01,\n",
       "        0.00000000e+00, 0.00000000e+00])}"
      ]
     },
     "execution_count": 98,
     "metadata": {},
     "output_type": "execute_result"
    }
   ],
   "source": [
    "grid_search.cv_results_"
   ]
  },
  {
   "cell_type": "code",
   "execution_count": 101,
   "id": "great-national",
   "metadata": {},
   "outputs": [
    {
     "name": "stdout",
     "output_type": "stream",
     "text": [
      "64879.17264989888 {'max_features': 2, 'n_estimators': 3}\n",
      "55865.78785242547 {'max_features': 2, 'n_estimators': 10}\n",
      "53152.7700924751 {'max_features': 2, 'n_estimators': 30}\n",
      "60701.22896290698 {'max_features': 4, 'n_estimators': 3}\n",
      "52491.401519405226 {'max_features': 4, 'n_estimators': 10}\n",
      "50420.768611179476 {'max_features': 4, 'n_estimators': 30}\n",
      "59656.123968278705 {'max_features': 6, 'n_estimators': 3}\n",
      "52914.98671873045 {'max_features': 6, 'n_estimators': 10}\n",
      "50025.44018158162 {'max_features': 6, 'n_estimators': 30}\n",
      "59064.373451166364 {'max_features': 8, 'n_estimators': 3}\n",
      "51500.86680641319 {'max_features': 8, 'n_estimators': 10}\n",
      "49935.20703733164 {'max_features': 8, 'n_estimators': 30}\n",
      "61891.55669895651 {'bootstrap': False, 'max_features': 2, 'n_estimators': 3}\n",
      "54179.43472086146 {'bootstrap': False, 'max_features': 2, 'n_estimators': 10}\n",
      "59810.67943298976 {'bootstrap': False, 'max_features': 3, 'n_estimators': 3}\n",
      "52640.111325210826 {'bootstrap': False, 'max_features': 3, 'n_estimators': 10}\n",
      "58791.703223130695 {'bootstrap': False, 'max_features': 4, 'n_estimators': 3}\n",
      "51593.4091389931 {'bootstrap': False, 'max_features': 4, 'n_estimators': 10}\n"
     ]
    }
   ],
   "source": [
    "cvres=grid_search.cv_results_\n",
    "for mean_score,params in zip(cvres[\"mean_test_score\"],cvres[\"params\"]):\n",
    "    print(np.sqrt(-mean_score),params)"
   ]
  },
  {
   "cell_type": "markdown",
   "id": "color-adobe",
   "metadata": {},
   "source": [
    "### THE BEST RESULT IS 49935.20703733164 {'max_features': 8, 'n_estimators': 30\n",
    "### our RF model is best AT max_features=8 and n_estimators=30, with rmse result 49935"
   ]
  },
  {
   "cell_type": "markdown",
   "id": "useful-tobacco",
   "metadata": {},
   "source": [
    "# Analysing the best model and their errors"
   ]
  },
  {
   "cell_type": "code",
   "execution_count": 103,
   "id": "partial-payday",
   "metadata": {},
   "outputs": [],
   "source": [
    "feature_importances=grid_search.best_estimator_.feature_importances_"
   ]
  },
  {
   "cell_type": "code",
   "execution_count": 104,
   "id": "specified-possession",
   "metadata": {},
   "outputs": [
    {
     "data": {
      "text/plain": [
       "array([6.93870690e-02, 6.48468929e-02, 4.31376569e-02, 1.54785991e-02,\n",
       "       1.54351730e-02, 1.55779797e-02, 1.49139625e-02, 3.66216910e-01,\n",
       "       5.40369003e-02, 1.09595122e-01, 6.45193515e-02, 9.16263809e-03,\n",
       "       1.51936561e-01, 6.30098207e-05, 2.52569796e-03, 3.16647615e-03])"
      ]
     },
     "execution_count": 104,
     "metadata": {},
     "output_type": "execute_result"
    }
   ],
   "source": [
    "feature_importances"
   ]
  },
  {
   "cell_type": "code",
   "execution_count": 112,
   "id": "organized-synthesis",
   "metadata": {},
   "outputs": [
    {
     "data": {
      "text/plain": [
       "[(0.36621690969525217, 'median_income'),\n",
       " (0.15193656091846872, 'INLAND'),\n",
       " (0.10959512242098031, 'pop_hhold'),\n",
       " (0.06938706901729724, 'longitude'),\n",
       " (0.06484689294349523, 'latitude'),\n",
       " (0.06451935149439156, 'bedrooms_per_room'),\n",
       " (0.054036900295923826, 'rooms_per_hhold'),\n",
       " (0.04313765690468382, 'housing_median_age'),\n",
       " (0.015577979658579686, 'population'),\n",
       " (0.015478599144393408, 'total_rooms'),\n",
       " (0.01543517297097088, 'total_bedrooms'),\n",
       " (0.014913962512073073, 'households'),\n",
       " (0.009162638093151688, '<1H OCEAN'),\n",
       " (0.003166476154543551, 'NEAR OCEAN'),\n",
       " (0.002525697955105099, 'NEAR BAY'),\n",
       " (6.300982068977115e-05, 'ISLAND')]"
      ]
     },
     "execution_count": 112,
     "metadata": {},
     "output_type": "execute_result"
    }
   ],
   "source": [
    "extra_attributes=[\"rooms_per_hhold\",\"pop_hhold\",\"bedrooms_per_room\"]\n",
    "cat_encoder=full_pipeline.named_transformers_[\"cat\"]\n",
    "cat_one_hot_attribs=list(cat_encoder.categories_[0])\n",
    "attributes=num_attributes+extra_attributes+cat_one_hot_attribs\n",
    "\n",
    "sorted(zip(feature_importances,attributes),reverse=True)"
   ]
  },
  {
   "cell_type": "code",
   "execution_count": 108,
   "id": "plastic-walker",
   "metadata": {},
   "outputs": [
    {
     "data": {
      "text/plain": [
       "OneHotEncoder()"
      ]
     },
     "execution_count": 108,
     "metadata": {},
     "output_type": "execute_result"
    }
   ],
   "source": [
    "cat_encoder"
   ]
  },
  {
   "cell_type": "code",
   "execution_count": 109,
   "id": "restricted-spine",
   "metadata": {},
   "outputs": [
    {
     "data": {
      "text/plain": [
       "['<1H OCEAN', 'INLAND', 'ISLAND', 'NEAR BAY', 'NEAR OCEAN']"
      ]
     },
     "execution_count": 109,
     "metadata": {},
     "output_type": "execute_result"
    }
   ],
   "source": [
    "cat_one_hot_attribs"
   ]
  },
  {
   "cell_type": "code",
   "execution_count": 110,
   "id": "metallic-chocolate",
   "metadata": {},
   "outputs": [
    {
     "data": {
      "text/plain": [
       "['longitude',\n",
       " 'latitude',\n",
       " 'housing_median_age',\n",
       " 'total_rooms',\n",
       " 'total_bedrooms',\n",
       " 'population',\n",
       " 'households',\n",
       " 'median_income']"
      ]
     },
     "execution_count": 110,
     "metadata": {},
     "output_type": "execute_result"
    }
   ],
   "source": [
    "num_attributes"
   ]
  },
  {
   "cell_type": "code",
   "execution_count": 111,
   "id": "coordinated-deadline",
   "metadata": {},
   "outputs": [
    {
     "data": {
      "text/plain": [
       "['rooms_per_hhold', 'pop_hhold', 'bedrooms_per_room']"
      ]
     },
     "execution_count": 111,
     "metadata": {},
     "output_type": "execute_result"
    }
   ],
   "source": [
    "extra_attributes"
   ]
  },
  {
   "cell_type": "markdown",
   "id": "flush-limitation",
   "metadata": {},
   "source": [
    "### Above list shows the importance of attributes in sorted order"
   ]
  },
  {
   "cell_type": "markdown",
   "id": "administrative-hello",
   "metadata": {},
   "source": [
    "# Let us evaluate the model in Test Set"
   ]
  },
  {
   "cell_type": "code",
   "execution_count": 113,
   "id": "afraid-reward",
   "metadata": {},
   "outputs": [],
   "source": [
    "final_model=grid_search.best_estimator_"
   ]
  },
  {
   "cell_type": "markdown",
   "id": "visible-vietnamese",
   "metadata": {},
   "source": [
    "### saving the model for future use"
   ]
  },
  {
   "cell_type": "code",
   "execution_count": 115,
   "id": "automatic-murder",
   "metadata": {},
   "outputs": [
    {
     "data": {
      "text/plain": [
       "['house_price_prediction.pkl']"
      ]
     },
     "execution_count": 115,
     "metadata": {},
     "output_type": "execute_result"
    }
   ],
   "source": [
    "import joblib\n",
    "joblib.dump(final_model,\"house_price_prediction.pkl\")"
   ]
  },
  {
   "cell_type": "markdown",
   "id": "collected-bedroom",
   "metadata": {},
   "source": [
    "### loading the model for resue"
   ]
  },
  {
   "cell_type": "code",
   "execution_count": 116,
   "id": "dependent-jefferson",
   "metadata": {},
   "outputs": [],
   "source": [
    "final_model=joblib.load(\"house_price_prediction.pkl\")"
   ]
  },
  {
   "cell_type": "markdown",
   "id": "possible-renaissance",
   "metadata": {},
   "source": [
    "### Testing Dataset"
   ]
  },
  {
   "cell_type": "code",
   "execution_count": 117,
   "id": "rocky-accommodation",
   "metadata": {},
   "outputs": [],
   "source": [
    "# testing dtaset\n",
    "housing_test_x=strat_test_set.drop(\"median_house_value\",axis=1)\n",
    "housing_test_y=strat_test_set[\"median_house_value\"].copy()"
   ]
  },
  {
   "cell_type": "code",
   "execution_count": 118,
   "id": "miniature-commercial",
   "metadata": {},
   "outputs": [],
   "source": [
    "x_test_prepared=full_pipeline.transform(housing_test_x)"
   ]
  },
  {
   "cell_type": "code",
   "execution_count": 119,
   "id": "stainless-impossible",
   "metadata": {},
   "outputs": [
    {
     "name": "stdout",
     "output_type": "stream",
     "text": [
      "(4128, 16) (4128,)\n"
     ]
    }
   ],
   "source": [
    "print(x_test_prepared.shape,housing_test_y.shape)"
   ]
  },
  {
   "cell_type": "code",
   "execution_count": 120,
   "id": "flexible-reggae",
   "metadata": {},
   "outputs": [],
   "source": [
    "final_predictions=final_model.predict(x_test_prepared)"
   ]
  },
  {
   "cell_type": "code",
   "execution_count": 121,
   "id": "periodic-graham",
   "metadata": {},
   "outputs": [],
   "source": [
    "final_mse=mean_squared_error(housing_test_y,final_predictions)\n",
    "final_rmse=np.sqrt(final_mse)"
   ]
  },
  {
   "cell_type": "code",
   "execution_count": 122,
   "id": "informational-roberts",
   "metadata": {},
   "outputs": [
    {
     "name": "stdout",
     "output_type": "stream",
     "text": [
      "48404.567712435\n"
     ]
    }
   ],
   "source": [
    "print(final_rmse)"
   ]
  },
  {
   "cell_type": "markdown",
   "id": "european-edinburgh",
   "metadata": {},
   "source": [
    "### In training the error is 49935 where as in testing it is 48404\n",
    "### To know  how precise this estimate is let us compute at 95% confidence interval for the generalilzation of model"
   ]
  },
  {
   "cell_type": "code",
   "execution_count": 123,
   "id": "south-enzyme",
   "metadata": {},
   "outputs": [
    {
     "data": {
      "text/plain": [
       "array([46325.41618525, 50398.01748203])"
      ]
     },
     "execution_count": 123,
     "metadata": {},
     "output_type": "execute_result"
    }
   ],
   "source": [
    "from scipy import stats\n",
    "confidence=0.95\n",
    "squared_errors=(final_predictions-housing_test_y)**2\n",
    "np.sqrt(stats.t.interval(confidence,len(squared_errors)-1,\n",
    "                        loc=squared_errors.mean(),\n",
    "                        scale=stats.sem(squared_errors)))"
   ]
  },
  {
   "cell_type": "markdown",
   "id": "suburban-davis",
   "metadata": {},
   "source": [
    "### With 95% confidence we can estimate range of errors should be in between 46325 to 50398"
   ]
  },
  {
   "cell_type": "markdown",
   "id": "binding-repository",
   "metadata": {},
   "source": [
    "# Launch,Monitor and Maintain Your Model"
   ]
  },
  {
   "cell_type": "code",
   "execution_count": null,
   "id": "simplified-skating",
   "metadata": {},
   "outputs": [],
   "source": []
  },
  {
   "cell_type": "code",
   "execution_count": null,
   "id": "engaged-traffic",
   "metadata": {},
   "outputs": [],
   "source": []
  },
  {
   "cell_type": "code",
   "execution_count": null,
   "id": "frozen-palestinian",
   "metadata": {},
   "outputs": [],
   "source": []
  },
  {
   "cell_type": "code",
   "execution_count": null,
   "id": "everyday-reducing",
   "metadata": {},
   "outputs": [],
   "source": []
  }
 ],
 "metadata": {
  "kernelspec": {
   "display_name": "Python 3",
   "language": "python",
   "name": "python3"
  },
  "language_info": {
   "codemirror_mode": {
    "name": "ipython",
    "version": 3
   },
   "file_extension": ".py",
   "mimetype": "text/x-python",
   "name": "python",
   "nbconvert_exporter": "python",
   "pygments_lexer": "ipython3",
   "version": "3.8.3"
  }
 },
 "nbformat": 4,
 "nbformat_minor": 5
}
